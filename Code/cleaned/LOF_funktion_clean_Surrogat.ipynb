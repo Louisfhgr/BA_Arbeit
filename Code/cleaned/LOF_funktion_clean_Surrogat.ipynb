{
  "cells": [
    {
      "cell_type": "markdown",
      "metadata": {
        "id": "view-in-github"
      },
      "source": [
        "<a href=\"https://colab.research.google.com/github/Louisfhgr/Dash.py/blob/master/Vorw%C3%A4rtsbewegung_standartisieren.ipynb\" target=\"_parent\"><img src=\"https://colab.research.google.com/assets/colab-badge.svg\" alt=\"Open In Colab\"/></a>"
      ]
    },
    {
      "cell_type": "code",
      "execution_count": null,
      "metadata": {
        "colab": {
          "base_uri": "https://localhost:8080/"
        },
        "id": "tzV-apdNneDl",
        "outputId": "e1b73e1d-5d25-41b8-bf89-15cc1a833557"
      },
      "outputs": [],
      "source": [
        "!pip install loguru"
      ]
    },
    {
      "cell_type": "code",
      "execution_count": null,
      "metadata": {
        "id": "Hip3LxnDnXbO"
      },
      "outputs": [],
      "source": [
        "import math\n",
        "from abc import ABC, abstractmethod\n",
        "from datetime import datetime\n",
        "\n",
        "import geopy.distance\n",
        "import numpy as np\n",
        "import pandas as pd\n",
        "import plotly.express as px\n",
        "import plotly.graph_objects as go\n",
        "from loguru import logger\n",
        "from pyproj import Transformer\n",
        "from scipy.signal import savgol_filter\n",
        "\n",
        "\n",
        "class PhysicsComputer(ABC):\n",
        "    \"\"\" Contains methods that are common for both SkiAlpine and SkiCrossCountry Class. It's the abstract base class\n",
        "    that not will be initiated but that will be the blueprint for SkiAlpine and SkiCrossCountry classes.\"\"\"\n",
        "\n",
        "    DEFAULT_CONFIG = {\n",
        "        'savitzky_golay': {\n",
        "            'window_size':\n",
        "                {'none': 11, 'DH': 11, 'SX': 11,'GS': 11, 'SL': 7, 'XC': 151},\n",
        "            'order':\n",
        "                {'none': 3, 'DH': 3, 'SX': 3, 'GS': 3, 'SL': 3, 'XC': 3}\n",
        "        }\n",
        "    }\n",
        "\n",
        "\n",
        "    def __init__(self, df: pd.DataFrame, config:dict):\n",
        "        \"\"\"\n",
        "        :param df: pandas DataFrame with raw data\n",
        "        :param config: config dictionary that sets values for different filters aso.\n",
        "        \"\"\"\n",
        "        self._original = df\n",
        "        self._df = df\n",
        "        self.config = config\n",
        "\n",
        "    @abstractmethod\n",
        "    def compute(self):\n",
        "        \"\"\" Define method that executes all calculations for either SkiAlpine- or SkiCrossCountry-Instance\"\"\"\n",
        "        pass\n",
        "\n",
        "    def plot(self, feature: str|list[str] = None, title: str = None) -> go.Figure:\n",
        "        \"\"\" Offers a simple plot-API to visualize a singe feature ort multiple features in time\n",
        "\n",
        "        :param title: optional plot-title as string\n",
        "        :param feature: feature to be visualized as string or list of features\n",
        "        \"\"\"\n",
        "        features = []\n",
        "        if feature is None:\n",
        "            raise f\"Please select a feature from DataFrame!\"\n",
        "        elif isinstance(feature, str) and feature not in self._df.columns:\n",
        "            raise Exception(f\"Feature {feature} not found\")\n",
        "        elif isinstance(feature, str) and feature in self._df.columns:\n",
        "            features.append(feature)\n",
        "        elif isinstance(feature, list):\n",
        "            features = [i for i in feature if i in self._df.columns]\n",
        "            if len(features) == 0:\n",
        "                raise Exception(f\"Feature {feature} not found\")\n",
        "            elif len(features) != len(feature):\n",
        "                logger.info(f\"Dropped {len(feature)- len(features)} feature(s)\")\n",
        "\n",
        "        if len(features) != 0:\n",
        "            x = self._df['time'] if 'time' in self._df.columns else self._df.index\n",
        "            title = dict(text=title if title is not None else f\"feature: {','.join(features)}\", font=dict(size=28))\n",
        "            if len(features) > 1:\n",
        "                fig = go.Figure()\n",
        "                for i in range(len(features)):\n",
        "                    fig.add_trace(go.Scatter(x=x, y=self._df[features[i]],\n",
        "                                             mode='lines',\n",
        "                                             name=features[i]))\n",
        "            else:\n",
        "                fig = px.line(self._df, x=x, y=features[0], title=f'{\",\".join(features)}'.upper())\n",
        "            fig.update_layout(template='plotly_white', title=title)\n",
        "            return fig\n",
        "\n",
        "    def export_csv(self, path: str) -> None:\n",
        "        \"\"\" Exports calculated data to a .csv-File.\n",
        "\n",
        "        :param path: output-path as string\n",
        "        \"\"\"\n",
        "        EXPORTED_COLUMNS = ['elevation', 'latitude', 'longitude','tf_id', 'discipline_from_name', 'time', 'date',\n",
        "                            'x_norm', 'y_norm', 'x_rel', 'y_rel', 'x_norm_sp', 'v_x_norm_sp', 'a_x_norm_sp',\n",
        "                            'y_norm_sp', 'v_y_norm_sp', 'a_y_norm_sp', 'elevation_sp', 'v_elevation_sp',\n",
        "                            'a_elevation_sp', 'k', 'k_xy', 'distance', 'distance_x_y', 'v']\n",
        "        df = self._df[EXPORTED_COLUMNS].copy()\n",
        "        df.to_csv(path, index=False)\n",
        "\n",
        "    @staticmethod\n",
        "    def _transform_to_x_y(coord1: tuple, coord2: tuple) -> (float, float):\n",
        "        \"\"\" Actually transforms the coordinates x and y\n",
        "        source: https://chatgpt.com/c/71f7ea04-2b95-4b07-96ee-fc5ccbf41532\n",
        "\n",
        "        :param coord1: tuple containing latitude and longitude of starting point; exp: (46.5, 8.3)\n",
        "        :param coord2: tuple containing latitude and longitude of ending point; exp: (46.5, 8.3)\n",
        "        :return: tuple containing 2 floats with distance in meters between the 2 given coordinates in x and y direction\n",
        "        \"\"\"\n",
        "        utm_zone = math.ceil((coord1[1] + 180) / 6)\n",
        "        hemisphere = 'N' if coord1[0] >= 0 else 'S'\n",
        "        wgs84 = 'epsg:4326'\n",
        "        utm = f\"+proj=utm +zone={utm_zone} +datum=WGS84 +units=m +{'south' if hemisphere == 'S' else 'north'}\"\n",
        "        transformer = Transformer.from_crs(wgs84, utm)\n",
        "        x1, y1 = transformer.transform(coord1[0], coord1[1])\n",
        "        x2, y2 = transformer.transform(coord2[0], coord2[1])\n",
        "        relative_x = x2 - x1\n",
        "        relative_y = y2 - y1\n",
        "        return relative_x, relative_y\n",
        "\n",
        "    @staticmethod\n",
        "    def _apply_savitzky_golay(dff: pd.DataFrame, filter_for: tuple, window_size: int, order: int) -> pd.DataFrame:\n",
        "        \"\"\" Applies smoothing with Savitzky-Golay to given columns in pandas DataFrame with certain window_size and order\n",
        "\n",
        "        :param dff: pandas DataFrame with raw data\n",
        "        :param filter_for: tuple with column-names in DataFrame as string that should be modified\n",
        "        :param window_size: length of Savitzky-Golay window as integer\n",
        "        :param order: order of Savitzky-Golay Filter\n",
        "        :return: modified pandas DataFrame\n",
        "        \"\"\"\n",
        "        # https://scipy.github.io/old-wiki/pages/Cookbook/SavitzkyGolay\n",
        "        # https://gist.github.com/krvajal/1ca6adc7c8ed50f5315fee687d57c3eb\n",
        "        # https://docs.scipy.org/doc/scipy/reference/generated/scipy.signal.savgol_filter.html\n",
        "\n",
        "        for item in filter_for:\n",
        "            if item not in dff.columns:\n",
        "                continue\n",
        "\n",
        "            val = dff[item].values\n",
        "            dff[f\"{item}_sp\"] = savgol_filter(val, window_size, order)\n",
        "            dff[f\"v_{item}_sp\"] = savgol_filter(val, window_size, order, deriv=1)\n",
        "            dff[f\"a_{item}_sp\"] = savgol_filter(val, window_size, order, deriv=2)\n",
        "\n",
        "        return dff\n",
        "\n",
        "    def _modify_config(self, config: dict=None) -> dict:\n",
        "        \"\"\" Modifies config file with the goal that all needed values are existing. If they do not exist in given config\n",
        "        discipline specific default values from parent class will be taken, else given values will be taken.\n",
        "\n",
        "        :param config: optional config dictionary that contains values for different filters and settings.\n",
        "        :return: modified_config (merged with discipline specific DEFAULT_CONFIG from PhysicsComputer) with all needed values\n",
        "        \"\"\"\n",
        "        def _merge_dicts(config, modified_config):\n",
        "            for key, value in config.items():\n",
        "                if isinstance(value, dict) and key in modified_config:\n",
        "                    _merge_dicts(value, modified_config[key])\n",
        "                else:\n",
        "                    if key in modified_config:\n",
        "                        modified_config[key] = value\n",
        "            return modified_config\n",
        "\n",
        "        if 'discipline_from_name' not in self._df.columns:\n",
        "            raise Exception(\"discipline_from_name not defined in initial DataFrame!\")\n",
        "\n",
        "        discipline = self._df['discipline_from_name'].iloc[0]\n",
        "\n",
        "        ws = PhysicsComputer.DEFAULT_CONFIG.get('savitzky_golay').get('window_size').get(discipline)\n",
        "        order = PhysicsComputer.DEFAULT_CONFIG.get('savitzky_golay').get('order').get(discipline)\n",
        "        modified_config = {}\n",
        "        modified_config.update({'savitzky_golay': {'window_size': ws, 'order': order}})\n",
        "\n",
        "        if config is not None:\n",
        "            modified_config = _merge_dicts(config, modified_config)\n",
        "\n",
        "        if not 'savitzky_golay' in modified_config or not 'window_size' in modified_config[\n",
        "            'savitzky_golay'] or not 'order' in modified_config['savitzky_golay']:\n",
        "            raise Exception(f\"Something went wrong with initialisation of config! config: {config}\")\n",
        "\n",
        "        return modified_config\n",
        "\n",
        "    def _convert_timestamp(self) -> None:\n",
        "        \"\"\" Modifies timestamp from format \"%Y%m%dT%H%M%S%f\" to separate columns date \"%Y-%m-%d\" and time \"%H:%M:%S.\"\n",
        "        as string.\n",
        "        \"\"\"\n",
        "        self._df['datetime'] = pd.to_datetime(self._df['timestamp'], format='%Y%m%dT%H%M%S%f')\n",
        "        self._df[\"time\"] = self._df[\"datetime\"].dt.strftime(\"%H:%M:%S.\") + (\n",
        "                    self._df['datetime'].dt.microsecond // 100000).astype(str)\n",
        "        self._df[\"date\"] = self._df[\"datetime\"].dt.strftime(\"%Y-%m-%d\")\n",
        "        self._df = self._df.drop(columns=[\"datetime\"])\n",
        "\n",
        "    def _compute_x_y_z(self) -> None:\n",
        "        \"\"\" Transforms the original coordinates in x and y coordinates in meters and x_rel, y_rel and z_rel as difference\n",
        "        between 2 measuring points. The starting point for x and y will always be at (0,0)\n",
        "        \"\"\"\n",
        "\n",
        "        self._df = self._df.reset_index(drop=True)\n",
        "        # transform columns to numeric columns -> all non-numeric values will be set to nan\n",
        "        self._df['latitude'] = pd.to_numeric(self._df['latitude'], errors=\"coerce\")\n",
        "        self._df['longitude'] = pd.to_numeric(self._df['longitude'], errors=\"coerce\")\n",
        "        self._df.dropna(subset=['longitude', 'latitude'], inplace=True)\n",
        "        # calculates distance im meters from actoil location to starting point\n",
        "        self._df['x_y_from_origin'] = self._df.apply(\n",
        "            lambda x: self._transform_to_x_y((self._df.loc[0, 'latitude'], self._df.loc[0, 'longitude']),\n",
        "                                       (x['latitude'], x['longitude'])), axis=1)\n",
        "        self._df[['x_norm', 'y_norm']] = pd.DataFrame(self._df['x_y_from_origin'].tolist(), index=self._df.index)\n",
        "        self._df['x_rel'] = self._df['x_norm'].diff()\n",
        "        self._df['y_rel'] = self._df['y_norm'].diff()\n",
        "        if 'z' in self._df.columns:\n",
        "            self._df['z_rel'] = self._df['z'].diff()\n",
        "        self._df.drop('x_y_from_origin', axis=1, inplace=True)\n",
        "\n",
        "    def _compute_savitzky_golay_and_derivatives(self) -> None:\n",
        "        \"\"\" Calls savitzky-golay-filter for defined features\n",
        "        \"\"\"\n",
        "        filter_for =  ('x_norm', 'y_norm', 'elevation')\n",
        "        self._df = self._apply_savitzky_golay(dff=self._df,\n",
        "                                        filter_for=filter_for,\n",
        "                                        window_size=self.config['savitzky_golay']['window_size'],\n",
        "                                        order=self.config['savitzky_golay']['order'])\n",
        "\n",
        "    def _compute_k(self) -> None:\n",
        "        \"\"\" Computes 'curvature'\n",
        "        \"\"\"\n",
        "        def _calc_k_3D(row: pd.Series) -> float:\n",
        "            v = [row['v_x_norm_sp'], row['v_y_norm_sp'], row['v_elevation_sp']]\n",
        "            a = [row['a_x_norm_sp'], row['a_y_norm_sp'], row['a_elevation_sp']]\n",
        "            cp = np.cross(v, a)\n",
        "            l = math.sqrt(cp[0] ** 2 + cp[1] ** 2 + cp[2] ** 2)\n",
        "            v_sp = math.sqrt(row['v_x_norm_sp'] ** 2 + row['v_y_norm_sp'] ** 2 + row['v_elevation_sp'] ** 2)\n",
        "            return l / v_sp ** 3\n",
        "\n",
        "        self._df['k'] = self._df.apply(lambda row: pd.Series(_calc_k_3D(row)), axis=1)\n",
        "\n",
        "    def _compute_k_xy(self) -> None:\n",
        "        \"\"\" Calculates 'curvature' in 2-dimensional-space (x-y-plane)\n",
        "        \"\"\"\n",
        "\n",
        "        def _calc_k_2D(row: pd.Series) -> float:\n",
        "            vx, vy = row['v_x_norm_sp'], row['v_y_norm_sp']  # 2D-Geschwindigkeitskomponenten\n",
        "            ax, ay = row['a_x_norm_sp'], row['a_y_norm_sp']  # 2D-Beschleunigungskomponenten\n",
        "            cp = vx * ay - vy * ax  # 2D-\"Kreuzprodukt\" (nur Betrag für xy-Ebene)\n",
        "            v_sp = math.sqrt(vx ** 2 + vy ** 2) # Betrag der Geschwindigkeit in 2D\n",
        "            return abs(cp) / v_sp ** 3\n",
        "\n",
        "        self._df['k_xy'] = self._df.apply(lambda row: pd.Series(_calc_k_2D(row)), axis=1)\n",
        "\n",
        "    def _compute_distances(self) -> None:\n",
        "        \"\"\" Computes distances between 2 coordinate-points\n",
        "        \"\"\"\n",
        "        # add shifts to x_norm, y_norm, latitude and longitude\n",
        "        self._df['shifted_x_norm'] = self._df['x_norm'].shift(periods=1)\n",
        "        self._df['shifted_y_norm'] = self._df['y_norm'].shift(periods=1)\n",
        "        self._df['shifted_latitude'] = self._df['latitude'].shift(periods=1)\n",
        "        self._df['shifted_longitude'] = self._df['longitude'].shift(periods=1)\n",
        "\n",
        "        def _calculate_distance(row: pd.Series) -> float:\n",
        "            \"\"\" Calculation of distance in meters between 2 coordinate points based on original longitude and latitude\n",
        "\n",
        "            :param row: a pandas Series with a single row of pandas DataFrame for a single athlete in a single run\n",
        "            :return: a distance between last 2 coordinate points in meters\n",
        "            \"\"\"\n",
        "\n",
        "            if row.isnull()['shifted_x_norm'] or row.isnull()['shifted_y_norm']:\n",
        "                return 0\n",
        "            return geopy.distance.geodesic((row['latitude'], row['longitude']),\n",
        "                                           (row['shifted_latitude'], row['shifted_longitude'])).m\n",
        "\n",
        "        def _calculate_distance_from_x_y(row: pd.Series) -> float:\n",
        "            \"\"\" Calculation of distance in meters based on transformed x and y (metric) coordinates. This calculation is used\n",
        "            to validate either coordinate transformation and calculation of distance\n",
        "\n",
        "            :param row: a pandas Series with a single row of pandas DataFrame for a single athlete in a single run\n",
        "            :return: a distance in [m] between 2 coordinates\n",
        "            \"\"\"\n",
        "            if row.isnull()['shifted_x_norm'] or row.isnull()['shifted_y_norm']:\n",
        "                return 0\n",
        "            distance = math.sqrt(\n",
        "                (row['x_norm'] - row['shifted_x_norm']) ** 2 + (row['y_norm'] - row['shifted_y_norm']) ** 2)\n",
        "            return distance\n",
        "\n",
        "        self._df['distance'] = self._df.apply(_calculate_distance, axis=1)\n",
        "        self._df['distance_x_y'] = self._df.apply(_calculate_distance_from_x_y, axis=1)\n",
        "\n",
        "    def _compute_v(self) -> None:\n",
        "        \"\"\" Calculates speed\n",
        "        \"\"\"\n",
        "        def _calculate_time_delta(df: pd.DataFrame) -> pd.DataFrame:\n",
        "            \"\"\" Transforms single columns 'date' and 'time' to a date_time column in the datetime-format with tenth of a second\n",
        "            ('%Y-%m-%d %H:%M:%S.%f') and adds feature 'time_delta' that is 'date_time' shifted by one period.\n",
        "\n",
        "            :param df: pandas DataFrame with raw data\n",
        "            :return: modified pandas DataFrame with added/modified date_time content\n",
        "            \"\"\"\n",
        "            df[\"date_time\"] = df[\"date\"] + \" \" + df[\"time\"]\n",
        "\n",
        "            try:\n",
        "                df['date_time'] = df['date_time'].apply(lambda x: datetime.strptime(x, '%Y-%m-%d %H:%M:%S.%f'))\n",
        "            except ValueError:\n",
        "                df['date_time'] = df['date_time'].apply(lambda x: datetime.strptime(x, '%Y-%m-%d %H:%M:%S'))\n",
        "\n",
        "            df['shifted_date_time'] = df['date_time'].shift(periods=1)\n",
        "            df.loc[0, 'shifted_date_time'] = df.loc[0, 'date_time']\n",
        "            df['time_delta'] = df['date_time'] - df['shifted_date_time']\n",
        "            df['time_delta'] = df['time_delta'].apply(lambda x: x.total_seconds())\n",
        "            return df\n",
        "\n",
        "        def _calculate_speed(row: pd.Series) -> float:\n",
        "            \"\"\" Calculates the speed in [m/s] based on distance between 2 calculated x and y coordinates and the according\n",
        "            time-gap between this 2 coordinates\n",
        "\n",
        "            :param row: a pandas Series with a single row of pandas DataFrame for a single athlete in a single run\n",
        "            :return: a speed calculation in [m/s] as float\n",
        "            \"\"\"\n",
        "            if row['time_delta'] == 0:\n",
        "                return 0\n",
        "            speed = row['distance_x_y'] / row['time_delta']\n",
        "            return speed\n",
        "\n",
        "        self._df = _calculate_time_delta(self._df)\n",
        "        self._df[\"v\"] = self._df.apply(lambda row: pd.Series(_calculate_speed(row)), axis=1)"
      ]
    },
    {
      "cell_type": "code",
      "execution_count": null,
      "metadata": {
        "id": "L2QPG91_nXbQ"
      },
      "outputs": [],
      "source": [
        "import pandas as pd\n",
        "from loguru import logger\n",
        "\n",
        "\n",
        "\n",
        "class SkiCrossCountry(PhysicsComputer):\n",
        "    def __init__(self, df: pd.DataFrame, config:dict=None):\n",
        "        \"\"\"\n",
        "        :param df: pandas DataFrame with raw values\n",
        "        :param config: optional config dictionary that sets values for different filters aso.\n",
        "        \"\"\"\n",
        "        self._df = df\n",
        "        config = self._modify_config(config)\n",
        "        super().__init__(df, config)\n",
        "\n",
        "    @staticmethod\n",
        "    def _compute_xc_specific_physical_size() -> None:\n",
        "        \"\"\" Computes cross-country-specific physical sizes (at the moment none).\n",
        "        \"\"\"\n",
        "        logger.info(\"xc specific\")\n",
        "\n",
        "    def compute(self):\n",
        "        self._convert_timestamp()\n",
        "        self._compute_x_y_z()\n",
        "        self._compute_savitzky_golay_and_derivatives()\n",
        "        self._compute_k()\n",
        "        self._compute_k_xy()\n",
        "        self._compute_distances()\n",
        "        self._compute_v()\n",
        "        self._compute_xc_specific_physical_size()\n",
        "        return self._df\n"
      ]
    },
    {
      "cell_type": "markdown",
      "metadata": {
        "id": "lnrstGyi_73U"
      },
      "source": [
        "-------------------------------------------------------------------------"
      ]
    },
    {
      "cell_type": "markdown",
      "metadata": {
        "id": "xXOiE99P4lmW"
      },
      "source": [
        "## Daten hochladen"
      ]
    },
    {
      "cell_type": "code",
      "execution_count": null,
      "metadata": {
        "colab": {
          "base_uri": "https://localhost:8080/"
        },
        "id": "BnaQQzKF4ktz",
        "outputId": "eef13cf8-4ba2-4f82-bc9d-8a08e36c8fc3"
      },
      "outputs": [],
      "source": [
        "import os\n",
        "print(os.listdir())"
      ]
    },
    {
      "cell_type": "code",
      "execution_count": null,
      "metadata": {
        "id": "uCzKU6py6HQf"
      },
      "outputs": [],
      "source": [
        "#from google.colab import files\n",
        "\n",
        "import os\n",
        "import pandas as pd\n",
        "\n",
        "def import_data_and_merge(\n",
        "    run_csv_name=\"Goms_2024-01-27_nadine_faehndrich_run_1.csv\",\n",
        "    export_csv_name=\"export_data_transformed.csv\",\n",
        "    name_filter=\"FAEHNDRICH Nadine Run__1\",\n",
        "    #zip_name=\"physics-computer-master.zip\",\n",
        "    extract_folder=\"\"\n",
        "):\n",
        "\n",
        "\n",
        "\n",
        "\n",
        "    extract_path = f\"/content/{extract_folder}\"\n",
        "    csv_main_path = f\"{extract_folder}{run_csv_name}\"\n",
        "\n",
        "\n",
        "\n",
        "\n",
        "\n",
        "\n",
        "    \"\"\"\n",
        "\n",
        "    # ZIP hochladen, wenn nötig\n",
        "    if zip_name not in os.listdir():\n",
        "        print(\"Bitte ZIP-Datei (Physics-computer-master) hochladen...\")\n",
        "       #files.upload()\n",
        "\n",
        "\n",
        "\n",
        "\n",
        "\n",
        "\n",
        "    # Entpacken, falls noch nicht geschehen\n",
        "    if not os.path.exists(extract_path):\n",
        "        print(\"Entpacke ZIP-Datei...\")\n",
        "        with zipfile.ZipFile(zip_name, 'r') as zip_ref:\n",
        "            zip_ref.extractall(\"/content\")\n",
        "\n",
        "    # Installiere wheel, falls vorhanden\n",
        "\n",
        "    wheel_path = os.path.join(extract_path, \"dist/physics_computer-0.0.2-py3-none-any.whl\")\n",
        "    if os.path.exists(wheel_path):\n",
        "        os.system(f\"pip install {wheel_path}\")\n",
        "\n",
        "\n",
        "    \"\"\"\n",
        "\n",
        "    # Lade Hauptdaten\n",
        "    #main_csv_full_path = os.path.join(\"/content\", csv_main_path)\n",
        "    main_csv_full_path = os.path.join(csv_main_path)\n",
        "    df_modified = pd.read_csv(main_csv_full_path)\n",
        "\n",
        "\n",
        "    xc = SkiCrossCountry(df=df_modified)\n",
        "    df_modified = xc.compute()\n",
        "\n",
        "    # Lade exportierte Transformationsdaten\n",
        "    if export_csv_name not in os.listdir():\n",
        "        print(\"Bitte auch export_data_transformed.csv (switchdrive) hochladen...\")\n",
        "        #files.upload()\n",
        "\n",
        "    df_gears = pd.read_csv(export_csv_name)\n",
        "\n",
        "    # Filtere relevante Zeile(n)\n",
        "    df_filtered = df_gears[df_gears[\"name_run\"] == name_filter]\n",
        "\n",
        "    if df_filtered.empty:\n",
        "        raise ValueError(f\"Kein Eintrag mit name_run = '{name_filter}' gefunden.\")\n",
        "\n",
        "    # Mappe \"technic\" auf df_modified basierend auf Zeit\n",
        "    df_modified[\"technic\"] = df_modified[\"time\"].map(\n",
        "        df_filtered.set_index(\"time\")[\"technic\"]\n",
        "    )\n",
        "    print(name_filter)\n",
        "    print(\"Techniken im DataFrame:\", df_modified[\"technic\"].unique())\n",
        "\n",
        "    return df_modified\n"
      ]
    },
    {
      "cell_type": "code",
      "execution_count": null,
      "metadata": {
        "colab": {
          "base_uri": "https://localhost:8080/",
          "height": 667
        },
        "id": "0snFCMrf6HN3",
        "outputId": "dfb1b035-cd46-42e3-baa2-0cca1ab032bc"
      },
      "outputs": [],
      "source": [
        "df = import_data_and_merge(\"Goms_2024-01-27_nadine_faehndrich_run_2.csv\", \"export_data_transformed.csv\", \"FAEHNDRICH Nadine Run__2\")\n",
        "print(df.columns)\n",
        "df"
      ]
    },
    {
      "cell_type": "markdown",
      "metadata": {
        "id": "AaU_qvOqOCgm"
      },
      "source": [
        "# Pyhsics-computer abrufen"
      ]
    },
    {
      "cell_type": "code",
      "execution_count": null,
      "metadata": {
        "id": "ZJDAE2sAjrJU"
      },
      "outputs": [],
      "source": [
        "from scipy.signal import savgol_filter\n",
        "import matplotlib.pyplot as plt\n",
        "import pandas as pd\n",
        "import numpy as np\n",
        "from mpl_toolkits.mplot3d import Axes3D  # noqa: F401\n",
        "\n",
        "\n",
        "def Savitzky_golay(\n",
        "    df: pd.DataFrame,\n",
        "    filter_for: tuple = (\"x_norm\", \"y_norm\", \"elevation\"),\n",
        "    window_size: int = 11,\n",
        "    order: int = 3,\n",
        "    plot: bool = True,\n",
        "    plot_2d: bool = True,\n",
        "    plot_3d: bool = True\n",
        ") -> pd.DataFrame:\n",
        "    \"\"\"\n",
        "    Wendet Savitzky-Golay-Filter auf ausgewählte Spalten an und plottet Zeitreihen + optional 2D/3D-Projektion.\n",
        "\n",
        "    Args:\n",
        "        df (pd.DataFrame): DataFrame mit den Daten.\n",
        "        filter_for (tuple): Spalten, die geglättet und geplottet werden sollen.\n",
        "        window_size (int): Fenstergröße für den Filter.\n",
        "        order (int): Ordnung des Filters.\n",
        "        plot (bool): Zeitreihen-Plot.\n",
        "        plot_2d (bool): 2D-Projektions-Plot.\n",
        "        plot_3d (bool): 3D-Projektions-Plot.\n",
        "\n",
        "    Returns:\n",
        "        pd.DataFrame: Modifiziertes DataFrame mit neuen *_sp-Spalten.\n",
        "    \"\"\"\n",
        "\n",
        "    # === Glättung ===\n",
        "    for col in filter_for:\n",
        "        if col not in df.columns:\n",
        "            print(f\"⚠️ Spalte '{col}' nicht gefunden – übersprungen.\")\n",
        "            continue\n",
        "        val = df[col].values\n",
        "        try:\n",
        "            df[f\"{col}_sp\"] = savgol_filter(val, window_size, order)\n",
        "            df[f\"v_{col}_sp\"] = savgol_filter(val, window_size, order, deriv=1)\n",
        "            df[f\"a_{col}_sp\"] = savgol_filter(val, window_size, order, deriv=2)\n",
        "        except Exception as e:\n",
        "            print(f\" Fehler bei '{col}': {e}\")\n",
        "\n",
        "    # === Zeitreihenplot ===\n",
        "    if plot:\n",
        "        plt.figure(figsize=(12, 6))\n",
        "        try:\n",
        "            time_series = pd.to_datetime(df[\"time\"], format=\"%H:%M:%S.%f\")\n",
        "        except:\n",
        "            try:\n",
        "                time_series = pd.to_datetime(df[\"time\"])\n",
        "            except:\n",
        "                time_series = df.index\n",
        "\n",
        "        colors = [\"red\", \"blue\", \"green\", \"orange\", \"purple\"]\n",
        "        for i, col in enumerate(filter_for):\n",
        "            a_col = f\"a_{col}_sp\"\n",
        "            if a_col in df.columns:\n",
        "                plt.plot(time_series, df[a_col], label=f\"a_{col}_sp\", color=colors[i % len(colors)], alpha=0.8)\n",
        "\n",
        "        if \"technic\" in df.columns:\n",
        "            unique_technic = df[\"technic\"].dropna().unique()\n",
        "            technic_mapping = {label: idx for idx, label in enumerate(unique_technic)}\n",
        "            technic_values = df[\"technic\"].map(technic_mapping)\n",
        "            bg_colors = plt.cm.Pastel1(np.linspace(0, 1, len(technic_mapping)))\n",
        "\n",
        "            for idx, (label, color) in enumerate(zip(technic_mapping.keys(), bg_colors)):\n",
        "                mask = technic_values == idx\n",
        "                plt.fill_between(time_series, -0.03, 0.03, where=mask, color=color, alpha=0.3, label=f\"Technic: {label}\")\n",
        "\n",
        "        plt.xlabel(\"Zeit\")\n",
        "        plt.ylabel(\"Beschleunigung (m/s²)\")\n",
        "        plt.title(\"Savitzky-Golay-geglättete Beschleunigungen\")\n",
        "        plt.legend()\n",
        "        plt.grid(True)\n",
        "        plt.xticks(rotation=45)\n",
        "        plt.tight_layout()\n",
        "        plt.show()\n",
        "\n",
        "    # === 2D-Projektion ===\n",
        "    if plot_2d and all(f\"a_{col}_sp\" in df.columns for col in (\"x_norm\", \"y_norm\")):\n",
        "        x = df[\"a_x_norm_sp\"]\n",
        "        y = df[\"a_y_norm_sp\"]\n",
        "        technic = df[\"technic\"] if \"technic\" in df.columns else None\n",
        "\n",
        "        plt.figure(figsize=(6, 6))\n",
        "        if technic is not None:\n",
        "            unique_technic = technic.dropna().unique()\n",
        "            colors = plt.cm.Set1(np.linspace(0, 1, len(unique_technic)))\n",
        "            technic_mapping = {label: colors[i] for i, label in enumerate(unique_technic)}\n",
        "\n",
        "            for i in range(len(x) - 1):\n",
        "                color = technic_mapping.get(technic.iloc[i], \"black\")\n",
        "                plt.plot(x[i:i+2], y[i:i+2], color=color, alpha=0.8)\n",
        "\n",
        "            legend_patches = [\n",
        "                plt.Line2D([0], [0], color=color, lw=3, label=f\"Technic: {gear}\")\n",
        "                for gear, color in technic_mapping.items()\n",
        "            ]\n",
        "            plt.legend(handles=legend_patches, loc=\"upper right\")\n",
        "        else:\n",
        "            plt.plot(x, y, color=\"blue\", alpha=0.8)\n",
        "\n",
        "        plt.scatter(0, 0, color=\"red\", marker=\"o\", label=\"Nullpunkt\")\n",
        "        plt.xlabel(\"a_x (m/s²)\")\n",
        "        plt.ylabel(\"a_y (m/s²)\")\n",
        "        plt.title(\"2D-Projektion der gefilterten Beschleunigung\")\n",
        "        plt.grid(True)\n",
        "        plt.tight_layout()\n",
        "        plt.show()\n",
        "\n",
        "    # === 3D-Projektion ===\n",
        "    if plot_3d and all(f\"a_{col}_sp\" in df.columns for col in (\"x_norm\", \"y_norm\", \"elevation\")):\n",
        "        x = df[\"a_x_norm_sp\"]\n",
        "        y = df[\"a_y_norm_sp\"]\n",
        "        z = df[\"a_elevation_sp\"]\n",
        "        technic = df[\"technic\"] if \"technic\" in df.columns else None\n",
        "\n",
        "        fig = plt.figure(figsize=(8, 8))\n",
        "        ax = fig.add_subplot(111, projection=\"3d\")\n",
        "\n",
        "        if technic is not None:\n",
        "            unique_technic = technic.dropna().unique()\n",
        "            colors = plt.cm.viridis(np.linspace(0, 1, len(unique_technic)))\n",
        "            technic_mapping = {label: colors[i] for i, label in enumerate(unique_technic)}\n",
        "\n",
        "            for i in range(len(x) - 1):\n",
        "                color = technic_mapping.get(technic.iloc[i], \"black\")\n",
        "                ax.plot(x[i:i+2], y[i:i+2], z[i:i+2], color=color, alpha=0.8)\n",
        "\n",
        "            for gear, color in technic_mapping.items():\n",
        "                ax.scatter([], [], [], color=color, label=f\"Technic: {gear}\")\n",
        "\n",
        "        else:\n",
        "            ax.plot(x, y, z, color=\"blue\", alpha=0.8)\n",
        "\n",
        "        ax.scatter(0, 0, 0, color=\"red\", marker=\"o\", label=\"Nullpunkt\")\n",
        "        ax.set_xlabel(\"a_x (m/s²)\")\n",
        "        ax.set_ylabel(\"a_y (m/s²)\")\n",
        "        ax.set_zlabel(\"a_z (m/s²)\")\n",
        "        ax.set_title(\"3D-Projektion der Inner-Body-Bewegung\")\n",
        "        ax.legend()\n",
        "        plt.tight_layout()\n",
        "        plt.show()\n",
        "\n",
        "    return df\n"
      ]
    },
    {
      "cell_type": "code",
      "execution_count": null,
      "metadata": {
        "colab": {
          "base_uri": "https://localhost:8080/",
          "height": 1000
        },
        "id": "hje3w582Abg7",
        "outputId": "aefd36d4-84a5-454d-bb50-b7b54cd39188"
      },
      "outputs": [],
      "source": [
        "df = Savitzky_golay(df,filter_for=(\"x_norm\",\"y_norm\", \"elevation\"),window_size=11,order=3)\n"
      ]
    },
    {
      "cell_type": "markdown",
      "metadata": {
        "id": "76YMbncVLQW9"
      },
      "source": [
        "## Zeitreihe Beschleunigung Plotten"
      ]
    },
    {
      "cell_type": "code",
      "execution_count": null,
      "metadata": {
        "id": "VZLyeEK9LjMW"
      },
      "outputs": [],
      "source": [
        "import pandas as pd\n",
        "import numpy as np\n",
        "import matplotlib.pyplot as plt\n",
        "from mpl_toolkits.mplot3d import Axes3D\n",
        "\n",
        "\n",
        "def signal_projection(\n",
        "    df: pd.DataFrame,\n",
        "    signal_columns: tuple = (\"a_x_norm_sp\", \"a_y_norm_sp\", \"a_elevation_sp\"),\n",
        "    plot: bool = True,\n",
        "    plot_2d: bool = True,\n",
        "    plot_3d: bool = True\n",
        ") -> pd.DataFrame:\n",
        "    \"\"\"\n",
        "    Visualisiert gegebene Beschleunigungssignale (ohne Savitzky-Golay).\n",
        "\n",
        "    Args:\n",
        "        df (pd.DataFrame): Eingabedaten mit gefilterten Spalten.\n",
        "        signal_columns (tuple): Spaltennamen der Signale zur Anzeige.\n",
        "        plot (bool): Zeitreihen-Plot anzeigen.\n",
        "        plot_2d (bool): 2D-Projektionsplot.\n",
        "        plot_3d (bool): 3D-Projektionsplot.\n",
        "\n",
        "    Returns:\n",
        "        pd.DataFrame: Unverändertes DataFrame.\n",
        "    \"\"\"\n",
        "    # === Zeitreihenplot ===\n",
        "    if plot:\n",
        "        plt.figure(figsize=(12, 6))\n",
        "        try:\n",
        "            time_series = pd.to_datetime(df[\"time\"], format=\"%H:%M:%S.%f\")\n",
        "        except:\n",
        "            try:\n",
        "                time_series = pd.to_datetime(df[\"time\"])\n",
        "            except:\n",
        "                time_series = df.index\n",
        "\n",
        "        colors = [\"red\", \"blue\", \"green\", \"orange\", \"purple\"]\n",
        "        for i, col in enumerate(signal_columns):\n",
        "            if col in df.columns:\n",
        "                plt.plot(time_series, df[col], label=col, color=colors[i % len(colors)], alpha=0.8)\n",
        "\n",
        "        if \"technic\" in df.columns:\n",
        "            unique_technic = df[\"technic\"].dropna().unique()\n",
        "            technic_mapping = {label: idx for idx, label in enumerate(unique_technic)}\n",
        "            technic_values = df[\"technic\"].map(technic_mapping)\n",
        "            bg_colors = plt.cm.Pastel1(np.linspace(0, 1, len(technic_mapping)))\n",
        "\n",
        "            for idx, (label, color) in enumerate(zip(technic_mapping.keys(), bg_colors)):\n",
        "                mask = technic_values == idx\n",
        "                # Dynamische Höhe der Technic-Balken\n",
        "                signal_min = df[list(signal_columns)].min().min()\n",
        "                signal_max = df[list(signal_columns)].max().max()\n",
        "                band_height = 0.1 * (signal_max - signal_min)  # 10% vom Gesamtbereich\n",
        "                bottom = signal_min - 0.05 * abs(signal_min)    # kleiner Puffer\n",
        "                top = bottom + band_height\n",
        "\n",
        "                plt.fill_between(time_series, bottom, top, where=mask, color=color, alpha=0.3, label=f\"Technic: {label}\")\n",
        "\n",
        "\n",
        "\n",
        "\n",
        "\n",
        "        plt.xlabel(\"Zeit\")\n",
        "        plt.ylabel(\"Beschleunigung (m/s²)\")\n",
        "        plt.title(\"Sensorwerte (ungefiltert)\")\n",
        "        plt.legend()\n",
        "        plt.grid(True)\n",
        "        plt.xticks(rotation=45)\n",
        "        plt.tight_layout()\n",
        "        plt.show()\n",
        "\n",
        "    # === 2D-Projektion ===\n",
        "    if plot_2d and all(col in df.columns for col in signal_columns[:2]):\n",
        "        x = df[signal_columns[0]]\n",
        "        y = df[signal_columns[1]]\n",
        "        technic = df[\"technic\"] if \"technic\" in df.columns else None\n",
        "\n",
        "        plt.figure(figsize=(6, 6))\n",
        "        if technic is not None:\n",
        "            unique_technic = technic.dropna().unique()\n",
        "            colors = plt.cm.Set1(np.linspace(0, 1, len(unique_technic)))\n",
        "            technic_mapping = {label: colors[i] for i, label in enumerate(unique_technic)}\n",
        "\n",
        "            for i in range(len(x) - 1):\n",
        "                color = technic_mapping.get(technic.iloc[i], \"black\")\n",
        "                plt.plot(x[i:i+2], y[i:i+2], color=color, alpha=0.8)\n",
        "\n",
        "            legend_patches = [\n",
        "                plt.Line2D([0], [0], color=color, lw=3, label=f\"Technic: {gear}\")\n",
        "                for gear, color in technic_mapping.items()\n",
        "            ]\n",
        "            plt.legend(handles=legend_patches, loc=\"upper right\")\n",
        "        else:\n",
        "            plt.plot(x, y, color=\"blue\", alpha=0.8)\n",
        "\n",
        "        plt.scatter(0, 0, color=\"red\", marker=\"o\", label=\"Nullpunkt\")\n",
        "        plt.xlabel(signal_columns[0])\n",
        "        plt.ylabel(signal_columns[1])\n",
        "        plt.title(\"2D-Projektion der Sensorwerte\")\n",
        "        plt.grid(True)\n",
        "        plt.tight_layout()\n",
        "        plt.show()\n",
        "\n",
        "    # === 3D-Projektion ===\n",
        "    if plot_3d and len(signal_columns) == 3 and all(col in df.columns for col in signal_columns):\n",
        "        x = df[signal_columns[0]]\n",
        "        y = df[signal_columns[1]]\n",
        "        z = df[signal_columns[2]]\n",
        "        technic = df[\"technic\"] if \"technic\" in df.columns else None\n",
        "\n",
        "        fig = plt.figure(figsize=(8, 8))\n",
        "        ax = fig.add_subplot(111, projection=\"3d\")\n",
        "\n",
        "        if technic is not None:\n",
        "            unique_technic = technic.dropna().unique()\n",
        "            colors = plt.cm.viridis(np.linspace(0, 1, len(unique_technic)))\n",
        "            technic_mapping = {label: colors[i] for i, label in enumerate(unique_technic)}\n",
        "\n",
        "            for i in range(len(x) - 1):\n",
        "                color = technic_mapping.get(technic.iloc[i], \"black\")\n",
        "                ax.plot(x[i:i+2], y[i:i+2], z[i:i+2], color=color, alpha=0.8)\n",
        "\n",
        "            for gear, color in technic_mapping.items():\n",
        "                ax.scatter([], [], [], color=color, label=f\"Technic: {gear}\")\n",
        "        else:\n",
        "            ax.plot(x, y, z, color=\"blue\", alpha=0.8)\n",
        "\n",
        "        ax.scatter(0, 0, 0, color=\"red\", marker=\"o\", label=\"Nullpunkt\")\n",
        "        ax.set_xlabel(signal_columns[0])\n",
        "        ax.set_ylabel(signal_columns[1])\n",
        "        ax.set_zlabel(signal_columns[2])\n",
        "        ax.set_title(\"3D-Projektion der Sensorwerte\")\n",
        "        ax.legend()\n",
        "        plt.tight_layout()\n",
        "        plt.show()\n",
        "\n",
        "    return df\n"
      ]
    },
    {
      "cell_type": "code",
      "execution_count": null,
      "metadata": {
        "colab": {
          "base_uri": "https://localhost:8080/",
          "height": 1000
        },
        "id": "eLQHK4hkLQHD",
        "outputId": "aa7c069d-b0fc-4122-d28d-4da4b64746fb"
      },
      "outputs": [],
      "source": [
        "signal_projection(df, signal_columns=(\"a_x_norm_sp\", \"a_y_norm_sp\"), plot=True, plot_2d=True, plot_3d=True)"
      ]
    },
    {
      "cell_type": "markdown",
      "metadata": {
        "id": "j736sJ4DCdjp"
      },
      "source": [
        "## Strecke plotten (x, y)"
      ]
    },
    {
      "cell_type": "code",
      "execution_count": null,
      "metadata": {
        "id": "lbTqP_KhUhpY"
      },
      "outputs": [],
      "source": [
        "import matplotlib.pyplot as plt\n",
        "import pandas as pd\n",
        "import numpy as np\n",
        "from matplotlib.collections import LineCollection\n",
        "from matplotlib.lines import Line2D\n",
        "\n",
        "def plot_technic_track(\n",
        "    df: pd.DataFrame,\n",
        "    lat_col: str = \"latitude\",\n",
        "    lon_col: str = \"longitude\",\n",
        "    technic_col: str = \"technic\"\n",
        "):\n",
        "    \"\"\"\n",
        "    Zeichnet eine durchgehende Strecke basierend auf lat/lon mit farblicher Unterscheidung der Techniken.\n",
        "    Args:\n",
        "        df (pd.DataFrame): DataFrame mit GPS-Daten.\n",
        "        lat_col (str): Name der Latitude-Spalte.\n",
        "        lon_col (str): Name der Longitude-Spalte.\n",
        "        technic_col (str): Spalte zur Farbcodierung (optional).\n",
        "    \"\"\"\n",
        "    if lat_col not in df.columns or lon_col not in df.columns:\n",
        "        raise ValueError(f\"Spalten '{lat_col}' oder '{lon_col}' fehlen im DataFrame.\")\n",
        "\n",
        "    lat = df[lat_col].to_numpy()\n",
        "    lon = df[lon_col].to_numpy()\n",
        "\n",
        "    # Erzeuge Liniensegmente (n-1 Stück)\n",
        "    points = np.array([lon, lat]).T.reshape(-1, 1, 2)\n",
        "    segments = np.concatenate([points[:-1], points[1:]], axis=1)\n",
        "\n",
        "    # Farbwerte für jedes Segment\n",
        "    if technic_col in df.columns and not df[technic_col].isna().all():\n",
        "        technic_series = df[technic_col].ffill().bfill().to_numpy()\n",
        "        unique_techs = pd.unique(technic_series)\n",
        "        tech_mapping = {val: idx for idx, val in enumerate(unique_techs)}\n",
        "        color_indices = np.array([tech_mapping[t] for t in technic_series])\n",
        "        segment_colors = color_indices[:-1]\n",
        "        colormap = plt.cm.Set1(np.linspace(0, 1, len(tech_mapping)))\n",
        "\n",
        "        # Zeichne mit LineCollection\n",
        "        fig, ax = plt.subplots(figsize=(14, 7))\n",
        "        lc = LineCollection(segments, colors=[colormap[i] for i in segment_colors], linewidth=2)\n",
        "        ax.add_collection(lc)\n",
        "\n",
        "        # Achsenlimits\n",
        "        ax.set_xlim(lon.min(), lon.max())\n",
        "        ax.set_ylim(lat.min(), lat.max())\n",
        "\n",
        "        # Legende manuell erstellen\n",
        "        legend_elements = [\n",
        "            Line2D([0], [0], color=colormap[i], lw=3, label=str(label))\n",
        "            for label, i in tech_mapping.items()\n",
        "        ]\n",
        "        ax.legend(handles=legend_elements, title=\"Technic\")\n",
        "\n",
        "    else:\n",
        "        # Fallback: Einfarbige Strecke\n",
        "        plt.plot(lon, lat, color=\"black\", linewidth=2, label=\"Strecke\")\n",
        "        plt.legend()\n",
        "\n",
        "    ax.set_xlabel(\"Longitude\")\n",
        "    ax.set_ylabel(\"Latitude\")\n",
        "    ax.set_title(\"Strecke mit Technic-Färbung (wenn vorhanden)\")\n",
        "    ax.grid(True)\n",
        "    ax.set_aspect(\"equal\")\n",
        "    plt.tight_layout()\n",
        "    plt.show()\n"
      ]
    },
    {
      "cell_type": "code",
      "execution_count": null,
      "metadata": {
        "colab": {
          "base_uri": "https://localhost:8080/",
          "height": 625
        },
        "id": "SAEFhvpEUhmg",
        "outputId": "f9334bc9-8d5f-41b2-a771-5dbe14d139b1"
      },
      "outputs": [],
      "source": [
        "plot_technic_track(df, lat_col=\"latitude\", lon_col=\"longitude\", technic_col=\"technic\")\n"
      ]
    },
    {
      "cell_type": "markdown",
      "metadata": {
        "id": "GrPn1mcoiZ6K"
      },
      "source": [
        "# Testdaten erzeugen (Halbkreis mit Innerbody)\n",
        "\n",
        "\n",
        "\n",
        "*   Ziel a_lr/a_vz\n",
        "*   Lattitude / Longitude\n",
        "\n"
      ]
    },
    {
      "cell_type": "code",
      "execution_count": null,
      "metadata": {
        "id": "Zn6VUT9gZmLL"
      },
      "outputs": [],
      "source": [
        "import numpy as np\n",
        "import pandas as pd\n",
        "import matplotlib.pyplot as plt\n",
        "\n",
        "def generate_testdata_MB(R: float, V: float, show_plot: bool = True) -> pd.DataFrame:\n",
        "    \"\"\"\n",
        "    Erzeugt Testdaten zur Körperbewegung auf einer Kreisbahn mit Schwerpunkt- und Schwankungsbewegung.\n",
        "\n",
        "    Args:\n",
        "        R (float): Radius der Kurve in Metern.\n",
        "        V (float): Geschwindigkeit in m/s.\n",
        "        show_plot (bool): Wenn True, wird die Bewegung visualisiert.\n",
        "\n",
        "    Returns:\n",
        "        pd.DataFrame: Enthält t, Schwerpunkt, Körperbewegung, Winkel, Schwankungen und Streckenlänge.\n",
        "    \"\"\"\n",
        "    omega = V / R\n",
        "    t = np.linspace(0, 2 * np.pi, num=500)\n",
        "\n",
        "    # Schwerpunktbewegung (ideale Kreisbahn)\n",
        "    x_sp = R * np.cos(omega * t)\n",
        "    y_sp = R * np.sin(omega * t)\n",
        "    phi = omega * t\n",
        "\n",
        "    # Schwankungen simulieren\n",
        "    omega_inner = 2 * np.pi / 5\n",
        "    x_LR = 0.2 * np.sin(omega_inner * t)\n",
        "    y_vz = 0.5 * np.sin(omega_inner * t)\n",
        "\n",
        "    # Körperbewegung mit Schwankung\n",
        "    x = x_sp + x_LR * np.cos(phi) - y_vz * np.sin(phi)\n",
        "    y = y_sp + x_LR * np.sin(phi) + y_vz * np.cos(phi)\n",
        "\n",
        "    # DataFrame\n",
        "    df = pd.DataFrame({\n",
        "        \"t\": t,\n",
        "        \"x_sp\": x_sp,\n",
        "        \"y_sp\": y_sp,\n",
        "        \"x\": x,\n",
        "        \"y\": y,\n",
        "        \"phi\": phi,\n",
        "        \"x_LR\": x_LR,\n",
        "        \"y_vz\": y_vz,\n",
        "        \"streckenlänge\": np.pi * R\n",
        "    })\n",
        "\n",
        "    # Plot\n",
        "    if show_plot:\n",
        "        fig, axes = plt.subplots(1, 2, figsize=(18, 8))\n",
        "\n",
        "        # Plot 1 – Linien\n",
        "        axes[0].plot(df[\"x_sp\"], df[\"y_sp\"], color=\"blue\", linestyle=\"--\", label=\"Schwerpunkt\")\n",
        "        axes[0].plot(df[\"x\"], df[\"y\"], color=\"red\", linestyle=\"-\", alpha=0.7, label=\"Körperbewegung\")\n",
        "        axes[0].scatter(df[\"x_sp\"].iloc[0], df[\"y_sp\"].iloc[0], color=\"green\", label=\"Start\", zorder=3, s=50)\n",
        "        axes[0].scatter(df[\"x_sp\"].iloc[-1], df[\"y_sp\"].iloc[-1], color=\"red\", label=\"Ende\", zorder=3, s=50)\n",
        "        axes[0].set_xlabel(\"X (Querbewegung in Meter)\")\n",
        "        axes[0].set_ylabel(\"Y (Vorwärtsbewegung in Meter)\")\n",
        "        axes[0].set_title(\"Schwerpunkt vs. Körperbewegung (Linien)\")\n",
        "        axes[0].legend()\n",
        "        axes[0].grid(True, linestyle=\"--\", linewidth=0.5)\n",
        "\n",
        "        # Plot 2 – Punkte\n",
        "        axes[1].scatter(df[\"x_sp\"], df[\"y_sp\"], color=\"blue\", label=\"Schwerpunkt\", s=2)\n",
        "        axes[1].scatter(df[\"x\"], df[\"y\"], color=\"red\", label=\"Körperbewegung\", s=2)\n",
        "        axes[1].scatter(df[\"x_sp\"].iloc[0], df[\"y_sp\"].iloc[0], color=\"green\", label=\"Start\", zorder=3, s=50)\n",
        "        axes[1].scatter(df[\"x_sp\"].iloc[-1], df[\"y_sp\"].iloc[-1], color=\"red\", label=\"Ende\", zorder=3, s=50)\n",
        "        axes[1].set_xlabel(\"X (Querbewegung in Meter)\")\n",
        "        axes[1].set_ylabel(\"Y (Vorwärtsbewegung in Meter)\")\n",
        "        axes[1].set_title(\"Echte Punkte (Diskret)\")\n",
        "        axes[1].legend()\n",
        "        axes[1].grid(True, linestyle=\"--\", linewidth=0.5)\n",
        "\n",
        "        plt.tight_layout()\n",
        "        plt.show()\n",
        "\n",
        "    return df\n"
      ]
    },
    {
      "cell_type": "code",
      "execution_count": null,
      "metadata": {
        "colab": {
          "base_uri": "https://localhost:8080/",
          "height": 807
        },
        "id": "0qWB-gChZmJn",
        "outputId": "98391ce6-209f-43ea-ee6b-a1ed8e3581ba"
      },
      "outputs": [],
      "source": [
        "MB_test = generate_testdata_MB(R=40, V=20)\n"
      ]
    },
    {
      "cell_type": "code",
      "execution_count": null,
      "metadata": {
        "id": "2aRndng_bN3u"
      },
      "outputs": [],
      "source": [
        "import numpy as np\n",
        "import pandas as pd\n",
        "import matplotlib.pyplot as plt\n",
        "\n",
        "def generate_testdata_LOF(\n",
        "    R: float,\n",
        "    V: float,\n",
        "    periods: int = 24,\n",
        "    A_xLR: float = 0.8,\n",
        "    A_yVZ: float = 1.0,\n",
        "    show_plot: bool = True\n",
        ") -> pd.DataFrame:\n",
        "    \"\"\"\n",
        "    Erzeugt Testdaten mit starker Körperbewegung (LOF) über eine Kreisbahn.\n",
        "\n",
        "    Args:\n",
        "        R (float): Radius der Kreisbahn in Metern.\n",
        "        V (float): Geschwindigkeit in m/s.\n",
        "        periods (int): Anzahl innerer Schwankungsperioden.\n",
        "        A_xLR (float): Amplitude der seitlichen Kippbewegung.\n",
        "        A_yVZ (float): Amplitude der Vorwärtsschwankung.\n",
        "        show_plot (bool): Ob die Visualisierung angezeigt werden soll.\n",
        "\n",
        "    Returns:\n",
        "        pd.DataFrame: Testdaten mit Schwerpunkt- & Körperbewegung.\n",
        "    \"\"\"\n",
        "    omega = V / R\n",
        "    t = np.linspace(0, 7, num=70)\n",
        "    phi = omega * t\n",
        "\n",
        "    # Schwerpunkt\n",
        "    x_sp = R * np.cos(omega * t)\n",
        "    y_sp = R * np.sin(omega * t)\n",
        "\n",
        "    # Schwankungen\n",
        "    omega_inner = omega * periods\n",
        "    x_LR = A_xLR * np.sin(omega_inner * t)\n",
        "    y_vz = A_yVZ * np.sin(omega_inner * t)\n",
        "\n",
        "    # Körperbewegung\n",
        "    x = x_sp + x_LR * np.cos(phi) - y_vz * np.sin(phi)\n",
        "    y = y_sp + x_LR * np.sin(phi) + y_vz * np.cos(phi)\n",
        "\n",
        "    # DataFrame\n",
        "    df = pd.DataFrame({\n",
        "        \"t\": t,\n",
        "        \"x_sp_echt\": x_sp,\n",
        "        \"y_sp_echt\": y_sp,\n",
        "        \"x\": x,\n",
        "        \"y\": y,\n",
        "        \"phi\": phi,\n",
        "        \"x_LR\": x_LR,\n",
        "        \"y_vz\": y_vz,\n",
        "        \"streckenlänge\": np.pi * R\n",
        "    })\n",
        "\n",
        "    # Plot\n",
        "    if show_plot:\n",
        "        fig, axes = plt.subplots(1, 2, figsize=(18, 8))\n",
        "\n",
        "        # Plot 1 – Linien\n",
        "        axes[0].plot(df[\"x_sp_echt\"], df[\"y_sp_echt\"], color=\"blue\", linestyle=\"--\", label=\"Schwerpunkt\")\n",
        "        axes[0].plot(df[\"x\"], df[\"y\"], color=\"red\", linestyle=\"-\", alpha=0.7, label=\"Körperbewegung\")\n",
        "        axes[0].scatter(df[\"x_sp_echt\"].iloc[0], df[\"y_sp_echt\"].iloc[0], color=\"green\", label=\"Start\", zorder=3, s=50)\n",
        "        axes[0].scatter(df[\"x_sp_echt\"].iloc[-1], df[\"y_sp_echt\"].iloc[-1], color=\"red\", label=\"Ende\", zorder=3, s=50)\n",
        "        axes[0].set_xlabel(\"X (Querbewegung in Meter)\")\n",
        "        axes[0].set_ylabel(\"Y (Vorwärtsbewegung in Meter)\")\n",
        "        axes[0].set_title(\"Schwerpunkt vs. Körperbewegung (Linien)\")\n",
        "        axes[0].legend()\n",
        "        axes[0].grid(True, linestyle=\"--\", linewidth=0.5)\n",
        "\n",
        "        # Plot 2 – Punkte\n",
        "        axes[1].scatter(df[\"x_sp_echt\"], df[\"y_sp_echt\"], color=\"blue\", label=\"Schwerpunkt\", s=2)\n",
        "        axes[1].scatter(df[\"x\"], df[\"y\"], color=\"red\", label=\"Körperbewegung\", s=2)\n",
        "        axes[1].scatter(df[\"x_sp_echt\"].iloc[0], df[\"y_sp_echt\"].iloc[0], color=\"green\", label=\"Start\", zorder=3, s=50)\n",
        "        axes[1].scatter(df[\"x_sp_echt\"].iloc[-1], df[\"y_sp_echt\"].iloc[-1], color=\"red\", label=\"Ende\", zorder=3, s=50)\n",
        "        axes[1].set_xlabel(\"X (Querbewegung in Meter)\")\n",
        "        axes[1].set_ylabel(\"Y (Vorwärtsbewegung in Meter)\")\n",
        "        axes[1].set_title(\"Echte Punkte (Diskret)\")\n",
        "        axes[1].legend()\n",
        "        axes[1].grid(True, linestyle=\"--\", linewidth=0.5)\n",
        "\n",
        "        plt.tight_layout()\n",
        "        plt.show()\n",
        "\n",
        "        df[\"technic\"] = \"1\"\n",
        "\n",
        "    return df\n"
      ]
    },
    {
      "cell_type": "code",
      "execution_count": null,
      "metadata": {
        "colab": {
          "base_uri": "https://localhost:8080/",
          "height": 807
        },
        "id": "LvYayrB1Zl_O",
        "outputId": "909bba8b-0e85-49c9-c228-d0ad6c6bef9e"
      },
      "outputs": [],
      "source": [
        "df_lof = generate_testdata_LOF(R=40, V=20, periods=24, A_xLR=0.5, A_yVZ=0.6)"
      ]
    },
    {
      "cell_type": "code",
      "execution_count": null,
      "metadata": {
        "colab": {
          "base_uri": "https://localhost:8080/",
          "height": 424
        },
        "id": "O63zDIBI6FXE",
        "outputId": "1083ba55-d660-46f1-fd16-28d0fae2aa6d"
      },
      "outputs": [],
      "source": [
        "df_lof"
      ]
    },
    {
      "cell_type": "markdown",
      "metadata": {
        "id": "wvqtF28Gi0cJ"
      },
      "source": [
        "# Datensatz kofigurieren"
      ]
    },
    {
      "cell_type": "code",
      "execution_count": null,
      "metadata": {
        "id": "1ZVZebB2c953"
      },
      "outputs": [],
      "source": [
        "# Erforderliche Bibliotheken erneut importieren\n",
        "from datetime import datetime, timedelta\n",
        "from geopy.distance import geodesic\n",
        "\n",
        "# **Funktion zur Umwandlung der Testdaten in das gewünschte GPS-Format mit initial_timestamp & timedelta Korrektur**\n",
        "def convert_to_gps_format(df_testdata, start_lat=46.500480, start_lon=8.302427, elevation_base=1350, tf_id=11783):\n",
        "    \"\"\"\n",
        "    Wandelt x/y-Meterwerte aus df_testdata in realistische GPS-Koordinaten (Latitude/Longitude) um.\n",
        "    Berechnet Geschwindigkeit, Höhe und fügt Zeitstempel hinzu.\n",
        "\n",
        "    Parameter:\n",
        "    df_testdata (DataFrame): Enthält die simulierten Testdaten mit x, y, t.\n",
        "    start_lat (float): Startlatitude für die GPS-Umrechnung.\n",
        "    start_lon (float): Startlongitude für die GPS-Umrechnung.\n",
        "    elevation_base (float): Basishöhe in Metern.\n",
        "    tf_id (int): ID für die GPS-Daten.\n",
        "\n",
        "    Rückgabe:\n",
        "    DataFrame: Formatierte GPS-Daten mit Geschwindigkeit, Höhe und Timestamps.\n",
        "    \"\"\"\n",
        "\n",
        "    # **1️⃣ Startzeitpunkt bestimmen (jetzt explizit innerhalb der Funktion definiert)**\n",
        "    initial_timestamp = datetime.now()  # Setzt den Startzeitpunkt auf die aktuelle Zeit\n",
        "\n",
        "    # **2️⃣ Umrechnung der X- und Y-Werte in echte Längen-/Breitengrade**\n",
        "    latitude_corrected = []\n",
        "    longitude_corrected = []\n",
        "\n",
        "    for _, row in df_testdata.iterrows():\n",
        "        # Berechnung der neuen GPS-Koordinaten relativ zum Startpunkt\n",
        "        new_lat = geodesic(meters=row[\"y\"]).destination((start_lat, start_lon), 0).latitude\n",
        "        new_lon = geodesic(meters=row[\"x\"]).destination((start_lat, start_lon), 90).longitude\n",
        "\n",
        "        latitude_corrected.append(new_lat)\n",
        "        longitude_corrected.append(new_lon)\n",
        "\n",
        "    # **3️⃣ Geschwindigkeit berechnen (Ableitung der Strecke nach Zeit)**\n",
        "    dt = np.diff(df_testdata[\"t\"], prepend=df_testdata[\"t\"].iloc[0])  # Zeitschritt\n",
        "    dx = np.diff(df_testdata[\"x\"], prepend=df_testdata[\"x\"].iloc[0])\n",
        "    dy = np.diff(df_testdata[\"y\"], prepend=df_testdata[\"y\"].iloc[0])\n",
        "\n",
        "    # Verhindere Division durch 0 für den ersten Zeitschritt\n",
        "    dt[dt == 0] = np.nan\n",
        "    speed_measured = np.sqrt(dx**2 + dy**2) / dt  # Geschwindigkeit = Strecke / Zeit\n",
        "\n",
        "    # **4️⃣ Erstellen des neuen DataFrames mit echten GPS-Koordinaten**\n",
        "    df_final = pd.DataFrame({\n",
        "        \"latitude\": latitude_corrected,\n",
        "        \"longitude\": longitude_corrected,\n",
        "        \"elevation\": elevation_base + 0.5 * np.sin(df_testdata[\"phi\"]),  # Leichte Höhenvariation für Realismus\n",
        "        \"speed_measured\": speed_measured,  # Berechnete Geschwindigkeit\n",
        "        \"timestamp\": [(initial_timestamp + timedelta(seconds=float(t))).isoformat() + \"000\" for t in df_testdata[\"t\"]],  # ISO-Timestamp\n",
        "        \"discipline_from_name\": \"XC\",  # Konstante Spalte\n",
        "        \"tf_id\": tf_id  # Konstante ID\n",
        "\n",
        "    })\n",
        "    df_final[\"technic\"]= \"1\"\n",
        "    # **5️⃣ NaN-Werte in \"speed_measured\" entfernen (durch Interpolation ersetzen)**\n",
        "    df_final[\"speed_measured\"] = df_final[\"speed_measured\"].interpolate(method='linear')\n",
        "\n",
        "    # **6️⃣ Erste Zeile mit NaN-Wert entfernen (falls vorhanden)**\n",
        "    df_final = df_final.dropna(subset=[\"speed_measured\"]).reset_index(drop=True)\n",
        "\n",
        "    # **7️⃣ Timestamp-Format korrigieren**\n",
        "    df_final[\"timestamp\"] = df_final[\"timestamp\"].apply(\n",
        "        lambda x: datetime.strptime(x[:23], \"%Y-%m-%dT%H:%M:%S.%f\").strftime(\"%Y%m%dT%H%M%S%f\")[:-3]  # Entfernt letzte 3 Stellen für Millisekundenpräzision\n",
        "    )\n",
        "    xc = SkiCrossCountry(df=df_final)\n",
        "    df_final = xc.compute()\n",
        "\n",
        "\n",
        "\n",
        "    return df_final"
      ]
    },
    {
      "cell_type": "code",
      "execution_count": null,
      "metadata": {
        "colab": {
          "base_uri": "https://localhost:8080/",
          "height": 1000
        },
        "id": "DvPZu0Qih7oz",
        "outputId": "019becf9-5151-4b4c-f492-9aedd787ada4"
      },
      "outputs": [],
      "source": [
        "df_lof = Savitzky_golay(df_lof,filter_for=(\"x_norm\",\"y_norm\", \"elevation\"),window_size=11,order=3)"
      ]
    },
    {
      "cell_type": "markdown",
      "metadata": {
        "id": "-JzZzRmKOuHw"
      },
      "source": [
        "# Vorwärtsbewegung Euklidisch"
      ]
    },
    {
      "cell_type": "code",
      "execution_count": null,
      "metadata": {
        "colab": {
          "base_uri": "https://localhost:8080/",
          "height": 424
        },
        "id": "GE18BMiBhBTa",
        "outputId": "78483c60-7661-4c61-a4e8-0b22e8570202"
      },
      "outputs": [],
      "source": [
        "df_lof"
      ]
    },
    {
      "cell_type": "code",
      "execution_count": null,
      "metadata": {
        "id": "3o7Nb2q3pMMR"
      },
      "outputs": [],
      "source": [
        "def smooth_and_euklid(df: pd.DataFrame, window_size: int = 91, order: int = 3) -> pd.DataFrame:\n",
        "    df_mod = df.copy()\n",
        "\n",
        "    # === 1. Glätten ===\n",
        "    df_mod[\"latitude_smooth\"] = savgol_filter(df_mod[\"latitude\"], window_size, order)\n",
        "    df_mod[\"longitude_smooth\"] = savgol_filter(df_mod[\"longitude\"], window_size, order)\n",
        "\n",
        "    # === 2. Tangentenwinkel\n",
        "    dx = np.diff(df_mod[\"longitude_smooth\"])\n",
        "    dy = np.diff(df_mod[\"latitude_smooth\"])\n",
        "    phi = np.arctan2(dy, dx)\n",
        "    phi = np.append(phi, phi[-1])\n",
        "    df_mod[\"phi_tangent\"] = phi\n",
        "    df_mod[\"phi_tangent_deg\"] = np.degrees(phi)\n",
        "\n",
        "    # === 3. Neue Richtung\n",
        "    df_mod[\"dx\"] = df_mod[\"longitude\"].diff()\n",
        "    df_mod[\"dy\"] = df_mod[\"latitude\"].diff()\n",
        "    df_mod[\"distance\"] = np.sqrt(df_mod[\"dx\"]**2 + df_mod[\"dy\"]**2)\n",
        "\n",
        "    phi_rad = np.radians(df_mod[\"phi_tangent\"])\n",
        "    df_mod[\"dx_new\"] = df_mod[\"distance\"] * np.cos(phi_rad)\n",
        "    df_mod[\"dy_new\"] = df_mod[\"distance\"] * np.sin(phi_rad)\n",
        "\n",
        "    df_mod[\"longitude_new\"] = df_mod[\"longitude\"].iloc[0] + np.cumsum(df_mod[\"dx_new\"].fillna(0))\n",
        "    df_mod[\"latitude_new\"] = df_mod[\"latitude\"].iloc[0] + np.cumsum(df_mod[\"dy_new\"].fillna(0))\n",
        "\n",
        "\n",
        "\n",
        "    # === Plot 1: Original\n",
        "    plt.figure(figsize=(10, 6))\n",
        "    plt.plot(df_mod[\"longitude\"], df_mod[\"latitude\"], label=\"Original\", color=\"black\", linewidth=1)\n",
        "    plt.scatter(df_mod[\"longitude\"].iloc[0], df_mod[\"latitude\"].iloc[0], color=\"green\", label=\"Start\", s=60)\n",
        "    plt.scatter(df_mod[\"longitude\"].iloc[-1], df_mod[\"latitude\"].iloc[-1], color=\"red\", label=\"Ende\", s=60)\n",
        "    plt.title(\"Originale GPS-Strecke\")\n",
        "    plt.xlabel(\"Longitude\")\n",
        "    plt.ylabel(\"Latitude\")\n",
        "    plt.legend()\n",
        "    plt.grid(True, linestyle=\"--\", linewidth=0.5)\n",
        "    plt.tight_layout()\n",
        "    plt.show()\n",
        "\n",
        "\n",
        "    # === Plot 2: Geglättet (Savitzky-Golay)\n",
        "    plt.figure(figsize=(10, 6))\n",
        "    plt.plot(df_mod[\"longitude_smooth\"], df_mod[\"latitude_smooth\"], label=\"Geglättet (Savitzky-Golay)\", color=\"blue\", linewidth=1)\n",
        "    plt.scatter(df_mod[\"longitude_smooth\"].iloc[0], df_mod[\"latitude_smooth\"].iloc[0], color=\"green\", label=\"Start\", s=60)\n",
        "    plt.scatter(df_mod[\"longitude_smooth\"].iloc[-1], df_mod[\"latitude_smooth\"].iloc[-1], color=\"red\", label=\"Ende\", s=60)\n",
        "    plt.title(\"Geglättete GPS-Strecke (Savitzky-Golay)\")\n",
        "    plt.xlabel(\"Longitude\")\n",
        "    plt.ylabel(\"Latitude\")\n",
        "    plt.legend()\n",
        "    plt.grid(True, linestyle=\"--\", linewidth=0.5)\n",
        "    plt.tight_layout()\n",
        "    plt.show()\n",
        "\n",
        "\n",
        "    # === Plot 2: Original vs. Rekonstruiert via Tangente\n",
        "    plt.figure(figsize=(10, 6))\n",
        "    plt.plot(df_mod[\"longitude\"], df_mod[\"latitude\"], label=\"Original\", color=\"black\", linewidth=1)\n",
        "    plt.plot(df_mod[\"longitude_new\"], df_mod[\"latitude_new\"], label=\"Rekonstruiert (Tangente)\", color=\"red\", linewidth=1)\n",
        "    plt.scatter(df_mod[\"longitude\"].iloc[0], df_mod[\"latitude\"].iloc[0], color=\"green\", label=\"Start\", s=60)\n",
        "    plt.scatter(df_mod[\"longitude\"].iloc[-1], df_mod[\"latitude\"].iloc[-1], color=\"red\", label=\"Ende\", s=60)\n",
        "    plt.title(\"Original vs. Rekonstruiert via Tangente\")\n",
        "    plt.xlabel(\"Longitude\")\n",
        "    plt.ylabel(\"Latitude\")\n",
        "    plt.legend()\n",
        "    plt.grid(True, linestyle=\"--\", linewidth=0.5)\n",
        "    plt.tight_layout()\n",
        "    plt.show()\n",
        "\n",
        "\n",
        "\n",
        "\n",
        "\n",
        "\n",
        "    # === 5. Koordinaten ersetzen\n",
        "    df_mod[\"longitude\"] = df_mod[\"longitude_new\"]\n",
        "    df_mod[\"latitude\"] = df_mod[\"latitude_new\"]\n",
        "    df_mod = df_mod.drop(columns=[\"longitude_new\", \"latitude_new\"])\n",
        "\n",
        "    # === 6. Drop NaNs (nur zur Sicherheit)\n",
        "    df_mod = df_mod.dropna(subset=[\"latitude\", \"longitude\"])\n",
        "\n",
        "    # === 7. Modellberechnung\n",
        "    xc = SkiCrossCountry(df=df_mod)\n",
        "    df_mod = xc.compute()\n",
        "\n",
        "    # === 8. Ausgabe\n",
        "    print(\"Erkannte Techniken:\", df_mod[\"technic\"].unique())\n",
        "    return df_mod\n"
      ]
    },
    {
      "cell_type": "code",
      "execution_count": null,
      "metadata": {
        "colab": {
          "base_uri": "https://localhost:8080/",
          "height": 547
        },
        "id": "G-RrIN-BmnNq",
        "outputId": "cd3317d2-57a9-4e1f-8735-2b135cfaf4f9"
      },
      "outputs": [],
      "source": [
        "df_lof = convert_to_gps_format(df_lof)"
      ]
    },
    {
      "cell_type": "code",
      "execution_count": null,
      "metadata": {
        "id": "mVUDQU2fuPmI"
      },
      "outputs": [],
      "source": [
        "df_lof = smooth_and_euklid(df_lof, window_size=91)"
      ]
    },
    {
      "cell_type": "code",
      "execution_count": null,
      "metadata": {
        "id": "7FeIFGMwuPkS"
      },
      "outputs": [],
      "source": [
        "plot_technic_track(df_lof, lat_col=\"latitude\", lon_col=\"longitude\", technic_col=\"technic\")"
      ]
    },
    {
      "cell_type": "markdown",
      "metadata": {
        "id": "QZ9NmPxoPk0c"
      },
      "source": [
        "# Test Vorwärtsbewegung_Ableitung"
      ]
    },
    {
      "cell_type": "code",
      "execution_count": null,
      "metadata": {
        "id": "E8961ECT8XFI"
      },
      "outputs": [],
      "source": [
        "import pandas as pd\n",
        "import numpy as np\n",
        "import matplotlib.pyplot as plt\n",
        "from scipy.signal import savgol_filter\n",
        "from mpl_toolkits.mplot3d import Axes3D\n",
        "\n",
        "def Smooth_and_acceleration(df: pd.DataFrame, window_size: int = 91, order: int = 3) -> pd.DataFrame:\n",
        "    \"\"\"\n",
        "    Glättet GPS-Daten, berechnet Tangentenwinkel, rotiert Beschleunigungen,\n",
        "    und visualisiert alles inkl. 3D-Plot pro Gear.\n",
        "    \"\"\"\n",
        "\n",
        "    df_mod = df.copy()\n",
        "\n",
        "    # === 1. GPS Glätten ===\n",
        "    df_mod[\"latitude_smooth\"] = savgol_filter(df_mod[\"latitude\"], window_size, order)\n",
        "    df_mod[\"longitude_smooth\"] = savgol_filter(df_mod[\"longitude\"], window_size, order)\n",
        "\n",
        "    df_modified_Stan = df_mod.copy()\n",
        "\n",
        "\n",
        "\n",
        "    fig, ax = plt.subplots(2, 1, figsize=(12, 10), sharex=True)\n",
        "    # Original GPS-Strecke\n",
        "    ax[0].plot(df_modified_Stan[\"longitude\"], df_modified_Stan[\"latitude\"], color=\"black\", linestyle=\"-\", alpha=1, linewidth=1)\n",
        "    ax[0].scatter(df_modified_Stan[\"longitude\"].iloc[0], df_modified_Stan[\"latitude\"].iloc[0], color=\"green\", label=\"Start\", zorder=3, s=80)\n",
        "    ax[0].scatter(df_modified_Stan[\"longitude\"].iloc[-1], df_modified_Stan[\"latitude\"].iloc[-1], color=\"red\", label=\"Ende\", zorder=3, s=80)\n",
        "    ax[0].set_title(\"Originale GPS-Strecke\", fontsize=14)\n",
        "    ax[0].set_xlabel(\"Longitude (Längengrad)\", fontsize=12)\n",
        "    ax[0].set_ylabel(\"Latitude (Breitengrad)\", fontsize=12)\n",
        "    ax[0].legend()\n",
        "    ax[0].grid(True, linestyle=\"--\", linewidth=0.5)\n",
        "\n",
        "    # Geglättete GPS-Strecke\n",
        "    ax[1].plot(df_modified_Stan[\"longitude_smooth\"], df_modified_Stan[\"latitude_smooth\"], color=\"blue\", linestyle=\"-\", linewidth=1, label=\"Geglättet\")\n",
        "    ax[1].scatter(df_modified_Stan[\"longitude\"].iloc[0], df_modified_Stan[\"latitude\"].iloc[0], color=\"green\", label=\"Start\", zorder=3, s=80)\n",
        "    ax[1].scatter(df_modified_Stan[\"longitude\"].iloc[-1], df_modified_Stan[\"latitude\"].iloc[-1], color=\"red\", label=\"Ende\", zorder=3, s=80)\n",
        "    ax[1].set_title(\"Geglättete GPS-Strecke (Savitzky-Golay 91)\", fontsize=14)\n",
        "    ax[1].set_xlabel(\"Longitude (Längengrad)\", fontsize=12)\n",
        "    ax[1].legend()\n",
        "    ax[1].grid(True, linestyle=\"--\", linewidth=0.5)\n",
        "\n",
        "\n",
        "    # Gemeinsame Achsenbegrenzung für besseren Vergleich\n",
        "    for a in ax:\n",
        "        a.set_xlim(df_modified_Stan[\"longitude\"].min() - 0.0002, df_modified_Stan[\"longitude\"].max() + 0.0002)\n",
        "        a.set_ylim(df_modified_Stan[\"latitude\"].min() - 0.0002, df_modified_Stan[\"latitude\"].max() + 0.0002)\n",
        "\n",
        "    # Anzeigen der Plots\n",
        "    plt.tight_layout()\n",
        "    plt.show()\n",
        "\n",
        "\n",
        "    # === 2. Winkel (phi_tangent) berechnen\n",
        "    dx = np.diff(df_mod[\"longitude_smooth\"])\n",
        "    dy = np.diff(df_mod[\"latitude_smooth\"])\n",
        "    phi = np.arctan2(dy, dx)\n",
        "    phi = np.append(phi, phi[-1])  # Länge anpassen\n",
        "    df_mod[\"phi_tangent\"] = phi\n",
        "    df_mod[\"phi_tangent_deg\"] = np.degrees(phi)\n",
        "    df_mod[\"phi_tangent_rad\"] = np.radians(df_mod[\"phi_tangent_deg\"])\n",
        "\n",
        "    # === 3. Beschleunigungen rotieren (falls vorhanden)\n",
        "    if \"a_x_norm_sp\" in df_mod.columns and \"a_y_norm_sp\" in df_mod.columns:\n",
        "        def rotate(ax, ay, phi_rad):\n",
        "            cos_phi = np.cos(-phi_rad)\n",
        "            sin_phi = np.sin(-phi_rad)\n",
        "            ax_rot = cos_phi * ax - sin_phi * ay\n",
        "            ay_rot = sin_phi * ax + cos_phi * ay\n",
        "            return ax_rot, ay_rot\n",
        "\n",
        "        df_mod[\"a_x_rot\"], df_mod[\"a_y_rot\"] = zip(*df_mod.apply(\n",
        "            lambda row: rotate(row[\"a_x_norm_sp\"], row[\"a_y_norm_sp\"], row[\"phi_tangent_rad\"]), axis=1\n",
        "        ))\n",
        "    else:\n",
        "        raise ValueError(\"❌ Spalten a_x_norm_sp und/oder a_y_norm_sp fehlen für Rotation!\")\n",
        "\n",
        "    # === 4. Zeitachse aufbauen\n",
        "    try:\n",
        "        time_series = pd.to_datetime(df_mod[\"time\"], format=\"%H:%M:%S.%f\")\n",
        "    except:\n",
        "        time_series = pd.to_datetime(df_mod[\"time\"])\n",
        "\n",
        "    # === 5. 2D-Vergleich: Original vs. Rotiert\n",
        "    if \"technic\" not in df_mod.columns:\n",
        "        raise ValueError(\"❌ Die Spalte 'technic' fehlt – für Visualisierung erforderlich!\")\n",
        "\n",
        "    unique_technic = df_mod[\"technic\"].dropna().unique()\n",
        "    technic_mapping = {label: idx for idx, label in enumerate(unique_technic)}\n",
        "    technic_values = df_mod[\"technic\"].map(technic_mapping)\n",
        "    colors = plt.cm.Pastel1(np.linspace(0, 1, len(technic_mapping)))\n",
        "\n",
        "    fig, axes = plt.subplots(2, 1, figsize=(12, 10), sharex=True)\n",
        "\n",
        "    # Plot 1: Rotierte Beschleunigungen\n",
        "    axes[0].plot(time_series, df_mod[\"a_x_rot\"], label=\"a_x (rotiert)\", color=\"red\", alpha=0.8)\n",
        "    axes[0].plot(time_series, df_mod[\"a_y_rot\"], label=\"a_y (rotiert)\", color=\"blue\", alpha=0.8)\n",
        "    axes[0].plot(time_series, df_mod[\"a_elevation_sp\"], label=\"a_z (elevation)\", color=\"green\", alpha=0.8)\n",
        "    for idx, (label, color) in enumerate(zip(technic_mapping.keys(), colors)):\n",
        "        mask = technic_values == idx\n",
        "        axes[0].fill_between(time_series, -0.03, 0.03, where=mask, color=color, alpha=0.3, label=f\"Gear: {label}\")\n",
        "    axes[0].set_ylabel(\"Beschleunigung (m/s²)\")\n",
        "    axes[0].set_title(\"Transformierte Beschleunigungen\")\n",
        "    axes[0].legend()\n",
        "    axes[0].grid(True)\n",
        "\n",
        "    # Plot 2: Originale Beschleunigungen\n",
        "    axes[1].plot(time_series, df_mod[\"a_x_norm_sp\"], label=\"a_x (original)\", color=\"red\", alpha=0.8)\n",
        "    axes[1].plot(time_series, df_mod[\"a_y_norm_sp\"], label=\"a_y (original)\", color=\"blue\", alpha=0.8)\n",
        "    axes[1].plot(time_series, df_mod[\"a_elevation_sp\"], label=\"a_z (elevation)\", color=\"green\", alpha=0.8)\n",
        "    for idx, (label, color) in enumerate(zip(technic_mapping.keys(), colors)):\n",
        "        mask = technic_values == idx\n",
        "        axes[1].fill_between(time_series, -0.03, 0.03, where=mask, color=color, alpha=0.3, label=f\"Gear: {label}\")\n",
        "    axes[1].set_xlabel(\"Zeit\")\n",
        "    axes[1].set_ylabel(\"Beschleunigung (m/s²)\")\n",
        "    axes[1].set_title(\"Originale Beschleunigungen\")\n",
        "    axes[1].legend()\n",
        "    axes[1].grid(True)\n",
        "\n",
        "    plt.xticks(rotation=45)\n",
        "    plt.tight_layout()\n",
        "    plt.show()\n",
        "    # === 7. 2D-Projektion a_x_rot vs. a_y_rot\n",
        "    plt.figure(figsize=(8, 8))\n",
        "    for idx, gear in enumerate(unique_technic):\n",
        "        mask = df_mod[\"technic\"] == gear\n",
        "        plt.plot(\n",
        "            df_mod.loc[mask, \"a_x_rot\"],\n",
        "            df_mod.loc[mask, \"a_y_rot\"],\n",
        "            label=f\"Gear: {gear}\",\n",
        "            color=colors[idx],\n",
        "            alpha=0.8\n",
        "        )\n",
        "\n",
        "    plt.scatter(0, 0, color=\"red\", marker=\"o\", label=\"Nullpunkt\")\n",
        "    plt.xlabel(\"a_x_rot (m/s²)\")\n",
        "    plt.ylabel(\"a_y_rot (m/s²)\")\n",
        "    plt.title(\"2D-Projektion der transformierten Beschleunigungen\")\n",
        "    plt.legend()\n",
        "    plt.grid(True)\n",
        "    plt.tight_layout()\n",
        "    plt.show()\n",
        "\n",
        "\n",
        "\n",
        "\n",
        "\n",
        "    # === 6. 3D-Projektion pro Gear\n",
        "    x = df_mod[\"a_x_rot\"]\n",
        "    y = df_mod[\"a_y_rot\"]\n",
        "    z = df_mod[\"a_elevation_sp\"]\n",
        "\n",
        "    fig = plt.figure(figsize=(18, 12))\n",
        "    rows = int(np.ceil(len(unique_technic) / 3))\n",
        "    for idx, gear in enumerate(unique_technic):\n",
        "        ax = fig.add_subplot(rows, 3, idx + 1, projection=\"3d\")\n",
        "        mask = df_mod[\"technic\"] == gear\n",
        "        ax.plot(x[mask], y[mask], z[mask], color=colors[idx], alpha=0.8)\n",
        "        ax.scatter(0, 0, 0, color=\"red\", label=\"Nullpunkt\")\n",
        "        ax.set_xlabel(\"a_x_rot\")\n",
        "        ax.set_ylabel(\"a_y_rot\")\n",
        "        ax.set_zlabel(\"a_z\")\n",
        "        ax.set_title(f\"3D-Projektion – Gear {gear}\")\n",
        "\n",
        "    plt.tight_layout()\n",
        "    plt.show()\n",
        "\n",
        "    return df_mod\n"
      ]
    },
    {
      "cell_type": "code",
      "execution_count": null,
      "metadata": {
        "id": "j0tGKjmv7IaS"
      },
      "outputs": [],
      "source": [
        "Smooth_and_acceleration(Nadine_2, window_size=111, order=3)"
      ]
    },
    {
      "cell_type": "markdown",
      "metadata": {
        "id": "6N1ba0WBvyAf"
      },
      "source": [
        "## Zyklus funktion"
      ]
    },
    {
      "cell_type": "code",
      "execution_count": null,
      "metadata": {
        "id": "R2285UMZywTY"
      },
      "outputs": [],
      "source": [
        "df_lof"
      ]
    },
    {
      "cell_type": "code",
      "execution_count": null,
      "metadata": {
        "id": "omdvtmsuIov6"
      },
      "outputs": [],
      "source": [
        "import pandas as pd\n",
        "import numpy as np\n",
        "import matplotlib.pyplot as plt\n",
        "from mpl_toolkits.mplot3d import Axes3D\n",
        "from scipy.signal import find_peaks\n",
        "\n",
        "\n",
        "def detect_and_plot_cycles_by_technic_time(\n",
        "    df: pd.DataFrame,\n",
        "    x_column: str,\n",
        "    y_column: str,\n",
        "    z_column: str = None,\n",
        "    peak_column: str = \"a_y_norm_sp\",\n",
        "    distance: int = 5,\n",
        "    prominence: float = 0.005,\n",
        "    height: float = None,\n",
        "    max_time_gap: float = 10  # Sekunden\n",
        ") -> pd.DataFrame:\n",
        "    \"\"\"\n",
        "    Zyklus-Analyse & Visualisierung nach Technik – per Peaks oder Zeitintervall.\n",
        "\n",
        "    - Erkennt Bewegungszyklen per Peaks oder grobem Zeitintervall (wenn max_time_gap angegeben).\n",
        "    - Visualisiert als 3D-/2D-Zyklen, Zeitreihe, Zyklusdauern.\n",
        "    \"\"\"\n",
        "\n",
        "    df = df.reset_index(drop=True)\n",
        "\n",
        "    # Prüfen\n",
        "    if peak_column not in df.columns:\n",
        "        raise ValueError(f\"Spalte '{peak_column}' nicht im DataFrame.\")\n",
        "    if \"date_time\" not in df.columns:\n",
        "        raise ValueError(\"'date_time' muss im DataFrame vorhanden sein!\")\n",
        "\n",
        "    df[\"date_time\"] = pd.to_datetime(df[\"date_time\"])\n",
        "\n",
        "    # === 1️⃣ Zyklen erkennen ===\n",
        "    peaks = [0]\n",
        "    last_peak_time = df.loc[0, \"date_time\"]\n",
        "\n",
        "    for i in range(1, len(df)):\n",
        "        current_time = df.loc[i, \"date_time\"]\n",
        "        if (current_time - last_peak_time).total_seconds() > max_time_gap:\n",
        "            peaks.append(i)\n",
        "            last_peak_time = current_time\n",
        "\n",
        "    # Ergänze mit klassischem Peak-Finder für Zwischenwerte\n",
        "    remaining = df.drop(index=peaks)\n",
        "    peak_indices, _ = find_peaks(\n",
        "        remaining[peak_column], distance=distance, prominence=prominence, height=height\n",
        "    )\n",
        "    peaks.extend(remaining.iloc[peak_indices].index.tolist())\n",
        "    peaks = sorted(set(peaks))\n",
        "\n",
        "    df[\"cycle_id\"] = 0\n",
        "    df.loc[peaks, \"cycle_id\"] = 1\n",
        "    df[\"cycle_id\"] = df[\"cycle_id\"].cumsum()\n",
        "    print(f\"Erkannte Zyklen: {df['cycle_id'].nunique()}\")\n",
        "\n",
        "    # === 2️⃣ Pro Technik: Zyklen 3D oder 2D visualisieren ===\n",
        "    for technic in df[\"technic\"].dropna().unique():\n",
        "        df_tech = df[df[\"technic\"] == technic]\n",
        "        unique_cycles = df_tech[\"cycle_id\"].unique()\n",
        "        colors = plt.cm.jet(np.linspace(0, 1, len(unique_cycles)))\n",
        "\n",
        "        fig = plt.figure(figsize=(8, 6))\n",
        "        ax = fig.add_subplot(111, projection=\"3d\") if z_column else fig.add_subplot(111)\n",
        "\n",
        "        for i, cycle_id in enumerate(unique_cycles):\n",
        "            cycle_data = df_tech[df_tech[\"cycle_id\"] == cycle_id]\n",
        "            x_shifted = cycle_data[x_column] - cycle_data[x_column].iloc[0]\n",
        "            y_shifted = cycle_data[y_column] - cycle_data[y_column].iloc[0]\n",
        "\n",
        "            if z_column and z_column in df.columns:\n",
        "                z_shifted = cycle_data[z_column] - cycle_data[z_column].iloc[0]\n",
        "                ax.plot3D(x_shifted, y_shifted, z_shifted, color=colors[i], alpha=0.7)\n",
        "            else:\n",
        "                ax.plot(x_shifted, y_shifted, color=colors[i], alpha=0.7)\n",
        "\n",
        "        ax.set_title(f\"Zyklen (Technik: {technic})\")\n",
        "        ax.set_xlabel(x_column)\n",
        "        ax.set_ylabel(y_column)\n",
        "        if z_column:\n",
        "            ax.set_zlabel(z_column)\n",
        "        plt.tight_layout()\n",
        "        plt.show()\n",
        "\n",
        "    # === 3️⃣ Zeitreihenplot mit Technic + Zyklen ===\n",
        "    time = df[\"date_time\"]\n",
        "    fig, ax = plt.subplots(figsize=(14, 6))\n",
        "    ax.plot(time, df[x_column], label=x_column, color='tab:blue')\n",
        "    ax.plot(time, df[y_column], label=y_column, color='tab:green')\n",
        "    if z_column:\n",
        "        ax.plot(time, df[z_column], label=z_column, color='tab:red')\n",
        "\n",
        "    # Zyklusgrenzen\n",
        "    changes = df[df[\"cycle_id\"].diff() == 1]\n",
        "    for t in changes[\"date_time\"]:\n",
        "        ax.axvline(x=t, linestyle=\"--\", color=\"black\", linewidth=0.5)\n",
        "\n",
        "    # Technik-Färbung\n",
        "    tech_colors = plt.cm.Pastel1(np.linspace(0, 1, df[\"technic\"].nunique()))\n",
        "    current_color = 0\n",
        "    last_idx = 0\n",
        "    for i in range(1, len(df)):\n",
        "        if df[\"technic\"].iloc[i] != df[\"technic\"].iloc[i-1]:\n",
        "            ax.axvspan(time.iloc[last_idx], time.iloc[i], color=tech_colors[current_color], alpha=0.3)\n",
        "            current_color = (current_color + 1) % len(tech_colors)\n",
        "            last_idx = i\n",
        "    ax.axvspan(time.iloc[last_idx], time.iloc[-1], color=tech_colors[current_color], alpha=0.3)\n",
        "\n",
        "    ax.set_xlabel(\"Zeit\")\n",
        "    ax.set_ylabel(\"Sensorwerte\")\n",
        "    ax.set_title(\"Zeitverlauf mit Zyklus- & Technik-Farben\")\n",
        "    ax.grid(True)\n",
        "    ax.legend()\n",
        "    plt.tight_layout()\n",
        "    plt.show()\n",
        "\n",
        "    # === 4️⃣ Zyklusdauer-Barplot ===\n",
        "    grouped = df.groupby(\"cycle_id\")\n",
        "    durations = grouped[\"date_time\"].agg(lambda x: (x.max() - x.min()).total_seconds())\n",
        "    technics = grouped[\"technic\"].first()\n",
        "\n",
        "    duration_df = pd.DataFrame({\n",
        "        \"cycle_id\": durations.index,\n",
        "        \"duration_sec\": durations.values,\n",
        "        \"technic\": technics.values\n",
        "    })\n",
        "\n",
        "    color_map = {tech: c for tech, c in zip(duration_df[\"technic\"].unique(), plt.cm.tab10.colors)}\n",
        "    colors = duration_df[\"technic\"].map(color_map)\n",
        "\n",
        "    plt.figure(figsize=(12, 5))\n",
        "    plt.bar(duration_df[\"cycle_id\"], duration_df[\"duration_sec\"], color=colors)\n",
        "    plt.xlabel(\"Zyklus-ID\")\n",
        "    plt.ylabel(\"Dauer [s]\")\n",
        "    plt.title(\"Zyklusdauer pro Technik\")\n",
        "    handles = [plt.Rectangle((0,0),1,1, color=color_map[tech]) for tech in color_map]\n",
        "    plt.legend(handles, color_map.keys())\n",
        "    plt.grid(axis=\"y\", linestyle=\"--\", alpha=0.5)\n",
        "    plt.tight_layout()\n",
        "    plt.show()\n",
        "\n",
        "    return df\n"
      ]
    },
    {
      "cell_type": "code",
      "execution_count": null,
      "metadata": {
        "id": "6CnT2gFVnXba"
      },
      "outputs": [],
      "source": [
        "# 🚀 **Funktion ausführen mit den gewünschten Spalten & Zyklusparametern**\n",
        "df_modified_Stan_ab = detect_and_plot_cycles_by_technic_time(\n",
        "    df_lof,\n",
        "    x_column=\"a_x_norm_sp\",\n",
        "    y_column=\"a_y_norm_sp\",\n",
        "    z_column=\"a_elevation_sp\",\n",
        "    peak_column=\"a_y_norm_sp\",  # Spalte, in der Maxima gesucht werden\n",
        "    distance=5,\n",
        "    prominence=0.005\n",
        ")"
      ]
    },
    {
      "cell_type": "code",
      "execution_count": null,
      "metadata": {
        "id": "l41F1lvQxLIy"
      },
      "outputs": [],
      "source": [
        "# 🚀 **Funktion ausführen mit den gewünschten Spalten & Zyklusparametern**\n",
        "df_modified_Stan_ab = detect_and_plot_cycles_by_technic_time(\n",
        "    df,\n",
        "    x_column=\"a_x_norm_sp\",\n",
        "    y_column=\"a_y_norm_sp\",\n",
        "    z_column=\"a_elevation_sp\",\n",
        "    peak_column=\"a_y_norm_sp\",  # Spalte, in der Maxima gesucht werden\n",
        "    distance=5,\n",
        "    prominence=0.005\n",
        ")"
      ]
    },
    {
      "cell_type": "code",
      "execution_count": null,
      "metadata": {
        "id": "v8LfRS-Q_wl7"
      },
      "outputs": [],
      "source": []
    },
    {
      "cell_type": "code",
      "execution_count": null,
      "metadata": {
        "id": "_siLL2d40unj"
      },
      "outputs": [],
      "source": []
    },
    {
      "cell_type": "code",
      "execution_count": null,
      "metadata": {
        "id": "RbfQTfZltK1N"
      },
      "outputs": [],
      "source": []
    },
    {
      "cell_type": "code",
      "execution_count": null,
      "metadata": {
        "id": "mN_kKE5rtKzG"
      },
      "outputs": [],
      "source": []
    },
    {
      "cell_type": "code",
      "execution_count": null,
      "metadata": {
        "id": "Z7S6ArGdtKw6"
      },
      "outputs": [],
      "source": []
    },
    {
      "cell_type": "code",
      "execution_count": null,
      "metadata": {
        "id": "RIJSG5PytKuv"
      },
      "outputs": [],
      "source": []
    },
    {
      "cell_type": "code",
      "execution_count": null,
      "metadata": {
        "id": "IRpbF7Y69wtg"
      },
      "outputs": [],
      "source": []
    },
    {
      "cell_type": "markdown",
      "metadata": {
        "id": "q9c3MTvAnXbl"
      },
      "source": [
        "## Alle Funktion aufgelistet"
      ]
    },
    {
      "cell_type": "code",
      "execution_count": null,
      "metadata": {
        "id": "6bSqfCmCnXbl"
      },
      "outputs": [],
      "source": [
        "df = import_data_and_merge(\"Goms_2024-01-27_nadine_faehndrich_run_2.csv\", \"export_data_transformed.csv\", \"FAEHNDRICH Nadine Run__2\")\n"
      ]
    },
    {
      "cell_type": "code",
      "execution_count": null,
      "metadata": {
        "id": "0gER4yMtrOdP"
      },
      "outputs": [],
      "source": [
        "df = Savitzky_golay(df,filter_for=(\"x_norm\",\"y_norm\", \"elevation\"),window_size=11,order=3)\n",
        "df_lof = Savitzky_golay(df_lof,filter_for=(\"x_norm\",\"y_norm\", \"elevation\"),window_size=11,order=3)"
      ]
    },
    {
      "cell_type": "code",
      "execution_count": null,
      "metadata": {
        "id": "LyFCYrqCMCHF"
      },
      "outputs": [],
      "source": [
        "signal_projection(nadine_2, signal_columns=(\"a_x_norm_sp\", \"a_y_norm_sp\", \"a_elevation_sp\"), plot=True, plot_2d=True, plot_3d=True) #diverse Signalwerte betrachten"
      ]
    },
    {
      "cell_type": "code",
      "execution_count": null,
      "metadata": {
        "id": "tnphZLCXGyk6"
      },
      "outputs": [],
      "source": [
        "plot_technic_track(df_lof) #diverse strecken gemäss GPS betrachten"
      ]
    },
    {
      "cell_type": "code",
      "execution_count": null,
      "metadata": {
        "id": "V1pCAkYanXbl"
      },
      "outputs": [],
      "source": [
        "df_mb = generate_testdata_MB(R=40, V=20)\n",
        "df_lof = generate_testdata_LOF(R=40, V=20, periods=24, A_xLR=0.5, A_yVZ=0.6)\n",
        "\n",
        "\n",
        "convert_to_gps_format(df_mb, start_lat=46.500480, start_lon=8.302427, elevation_base=1350, tf_id=11783)\n",
        "convert_to_gps_format(df_lof, start_lat=46.500480, start_lon=8.302427, elevation_base=1350, tf_id=11783)"
      ]
    },
    {
      "cell_type": "code",
      "execution_count": null,
      "metadata": {},
      "outputs": [],
      "source": [
        "Nur_Savitzky_golay(df_mb,filter_for=(\"x_norm\",\"y_norm\", \"elevation\"),window_size=11,order=3)"
      ]
    },
    {
      "cell_type": "code",
      "execution_count": null,
      "metadata": {},
      "outputs": [],
      "source": [
        "Phi_tangents(df_mb, x_col=\"x_sp_echt\", y_col=\"y_sp_echt\")"
      ]
    },
    {
      "cell_type": "code",
      "execution_count": null,
      "metadata": {},
      "outputs": [],
      "source": [
        "compute_and_plot_derivatives(df_mb, x_col='x', y_col='y', time_col='t')"
      ]
    },
    {
      "cell_type": "code",
      "execution_count": null,
      "metadata": {},
      "outputs": [],
      "source": [
        "project_acceleration_vector(df_mb, a_x_col=\"a_y\", a_y_col=\"a_x\", v_x_col=\"v_y\", v_y_col=\"v_x\")"
      ]
    },
    {
      "cell_type": "code",
      "execution_count": null,
      "metadata": {},
      "outputs": [],
      "source": [
        "rotate_acceleration_by_phi_column(df_mb, a_x_col=\"a_x\", a_y_col=\"a_y\", phi_col=\"phi_tangent_deg\") #Rotation der Beschleunigung"
      ]
    },
    {
      "cell_type": "code",
      "execution_count": null,
      "metadata": {},
      "outputs": [],
      "source": []
    },
    {
      "cell_type": "code",
      "execution_count": null,
      "metadata": {
        "id": "HD4NhlMKsHrn"
      },
      "outputs": [],
      "source": [
        "detect_and_plot_cycles_by_technic_time(\n",
        "    df,\n",
        "    x_column=\"a_x_norm_sp\", #ax_rot bei Beschleunigung\n",
        "    y_column=\"a_y_norm_sp\", #ax_rot bei Beschleunigung\n",
        "    z_column=\"a_elevation_sp\", #Auch 2 Dimensional möglich\n",
        "    peak_column=\"a_elevation_sp\",  # Spalte, in der Maxima gesucht werden\n",
        "    distance=5,  # Limite pro Peak\n",
        "    prominence=0.005  #Stärke des Peaks\n",
        "    #max_time_gap=2.5  #maximale Sekunden\n",
        ")"
      ]
    },
    {
      "cell_type": "code",
      "execution_count": null,
      "metadata": {
        "id": "Erp7dDUFtMUt"
      },
      "outputs": [],
      "source": []
    },
    {
      "cell_type": "code",
      "execution_count": null,
      "metadata": {
        "id": "cANKRGustMSm"
      },
      "outputs": [],
      "source": []
    },
    {
      "cell_type": "code",
      "execution_count": null,
      "metadata": {
        "id": "IOGhX6J3tMQm"
      },
      "outputs": [],
      "source": []
    },
    {
      "cell_type": "code",
      "execution_count": null,
      "metadata": {
        "id": "xoyj3b8NtMOW"
      },
      "outputs": [],
      "source": []
    },
    {
      "cell_type": "markdown",
      "metadata": {
        "id": "PqQtOzRQnXbm"
      },
      "source": [
        "## Werte testen"
      ]
    },
    {
      "cell_type": "code",
      "execution_count": null,
      "metadata": {
        "colab": {
          "base_uri": "https://localhost:8080/",
          "height": 807
        },
        "id": "0bS-jtDQYqiL",
        "outputId": "d7495413-e8a2-44a9-ab3c-834e33242e9d"
      },
      "outputs": [],
      "source": [
        "df_lof = generate_testdata_LOF(R=40, V=20, periods=24, A_xLR=0.5, A_yVZ=0.6)"
      ]
    },
    {
      "cell_type": "code",
      "execution_count": null,
      "metadata": {},
      "outputs": [],
      "source": [
        "from scipy.signal import savgol_filter\n",
        "import matplotlib.pyplot as plt\n",
        "import pandas as pd\n",
        "import numpy as np\n",
        "from mpl_toolkits.mplot3d import Axes3D  # noqa: F401\n",
        "\n",
        "def Nur_Savitzky_golay(\n",
        "    df: pd.DataFrame,\n",
        "    filter_for: tuple = (\"x\", \"y\", \"elevation\"),\n",
        "    window_size: int = 11,\n",
        "    order: int = 3,\n",
        "    plot: bool = True,\n",
        "    plot_2d: bool = True,\n",
        "    plot_3d: bool = True\n",
        ") -> pd.DataFrame:\n",
        "    \n",
        "    df = df.copy()\n",
        "\n",
        "    for col in filter_for:\n",
        "        if col not in df.columns:\n",
        "            print(f\"Spalte '{col}' nicht gefunden – übersprungen.\")\n",
        "            continue\n",
        "\n",
        "        valid = df[col].notna()\n",
        "        if valid.sum() < window_size:\n",
        "            print(f\"Nicht genug gültige Werte in '{col}' für Savitzky-Golay – übersprungen.\")\n",
        "            continue\n",
        "\n",
        "        try:\n",
        "            smoothed = savgol_filter(df.loc[valid, col], window_size, order)\n",
        "            new_col = f\"{col}_sp_SG\"\n",
        "            df[new_col] = np.nan\n",
        "            df.loc[valid, new_col] = smoothed\n",
        "        except Exception as e:\n",
        "            print(f\"Fehler bei '{col}': {e}\")\n",
        "\n",
        "    # === 2D Plot ===\n",
        "    if plot and plot_2d and len(filter_for) >= 2:\n",
        "        col_x, col_y = filter_for[:2]\n",
        "        if f\"{col_x}_sp_SG\" in df.columns and f\"{col_y}_sp_SG\" in df.columns:\n",
        "            plt.figure(figsize=(8, 6))\n",
        "            plt.plot(df[col_x], df[col_y], label=\"Original\", alpha=0.5, color=\"red\")\n",
        "            plt.plot(df[f\"{col_x}_sp_SG\"], df[f\"{col_y}_sp_SG\"], label=\"Geglättet\", linewidth=2, color=\"blue\")\n",
        "            plt.xlabel(col_x)\n",
        "            plt.ylabel(col_y)\n",
        "            plt.title(\"2D-Trajektorie (SG-geglättet)\")\n",
        "            plt.legend()\n",
        "            plt.grid(True)\n",
        "            plt.axis(\"equal\")\n",
        "            plt.tight_layout()\n",
        "            plt.show()\n",
        "\n",
        "    # === 3D Plot ===\n",
        "    if plot and plot_3d and len(filter_for) >= 3:\n",
        "        col_x, col_y, col_z = filter_for[:3]\n",
        "        if all(f\"{col}_sp_SG\" in df.columns for col in (col_x, col_y, col_z)):\n",
        "            fig = plt.figure(figsize=(10, 6))\n",
        "            ax = fig.add_subplot(111, projection='3d')\n",
        "\n",
        "            ax.plot(df[col_x], df[col_y], df[col_z],\n",
        "                    label=\"Original\", alpha=0.5, color=\"red\")\n",
        "\n",
        "            ax.plot(df[f\"{col_x}_sp_SG\"], df[f\"{col_y}_sp_SG\"], df[f\"{col_z}_sp_SG\"],\n",
        "                    label=\"Geglättet\", linewidth=2, color=\"blue\")\n",
        "\n",
        "            ax.set_xlabel(col_x)\n",
        "            ax.set_ylabel(col_y)\n",
        "            ax.set_zlabel(col_z)\n",
        "            ax.set_title(\"3D-Trajektorie (SG-Glättung)\")\n",
        "            ax.legend()\n",
        "            plt.tight_layout()\n",
        "            plt.show()\n",
        "        else:\n",
        "            print(\"Nicht alle Spalten für 3D-Plot verfügbar – übersprungen.\")\n",
        "\n",
        "    return df\n"
      ]
    },
    {
      "cell_type": "code",
      "execution_count": null,
      "metadata": {
        "colab": {
          "base_uri": "https://localhost:8080/",
          "height": 624
        },
        "id": "rTQ2zrEd9GMf",
        "outputId": "3d2ddfde-4521-4adf-bdee-4a9bfd217b47"
      },
      "outputs": [],
      "source": [
        "df_lof = Nur_Savitzky_golay(df_lof, filter_for=(\"x\", \"y\"), window_size=11, order=3)"
      ]
    },
    {
      "cell_type": "code",
      "execution_count": null,
      "metadata": {},
      "outputs": [],
      "source": [
        "df_lof"
      ]
    },
    {
      "cell_type": "code",
      "execution_count": null,
      "metadata": {},
      "outputs": [],
      "source": []
    },
    {
      "cell_type": "code",
      "execution_count": null,
      "metadata": {
        "colab": {
          "base_uri": "https://localhost:8080/"
        },
        "id": "2QyHFO_Y-qh4",
        "outputId": "aa615a73-921d-46f8-ae60-da6a6eab815a"
      },
      "outputs": [],
      "source": [
        "print(sum(df_lof[\"x_sp_echt\"])-sum(df_lof[\"x_sp_SG\"]))"
      ]
    },
    {
      "cell_type": "code",
      "execution_count": null,
      "metadata": {
        "colab": {
          "base_uri": "https://localhost:8080/",
          "height": 459
        },
        "id": "KWhfp_kJ_5Ux",
        "outputId": "6e3f1e75-7b3c-418c-fa9a-a630daf3d1c2"
      },
      "outputs": [],
      "source": [
        "df_lof[\"x_sp_echt\"]-df_lof[\"x_sp_SG\"]"
      ]
    },
    {
      "cell_type": "code",
      "execution_count": null,
      "metadata": {
        "colab": {
          "base_uri": "https://localhost:8080/",
          "height": 1000
        },
        "id": "UnmVAm0AAdoi",
        "outputId": "9937d9fd-18b1-4cf4-a118-cc91a563a0d9"
      },
      "outputs": [],
      "source": [
        "signal_projection(df_lof, signal_columns=(\"y_sp_SG\", \"y\", \"elevation\"), plot=True, plot_2d=True, plot_3d=True)"
      ]
    },
    {
      "cell_type": "markdown",
      "metadata": {
        "id": "q9pBiQDxDlaD"
      },
      "source": [
        "#  Winkel Phi_smooth bestimmmen, vergleich mit phi_echt"
      ]
    },
    {
      "cell_type": "code",
      "execution_count": null,
      "metadata": {
        "id": "_NSO30vGDkar"
      },
      "outputs": [],
      "source": [
        "def Phi_tangents(\n",
        "        \n",
        "        \n",
        "    df_lof: pd.DataFrame,\n",
        "    # Kolumnen für die Berechnung\n",
        "    x_col: str = \"x_sp_SG\",\n",
        "    y_col: str = \"y_sp_SG\",\n",
        "   \n",
        "\n",
        "\n",
        "):\n",
        "    \"\"\"\n",
        "    Berechnet den Tangentenwinkel und die Ableitung der Strecke nach Zeit.\n",
        "    \"\"\"\n",
        "\n",
        "    # === 1. Tangentenwinkel ===\n",
        "    # Erster Winkel ist 0, um die Berechnung zu starten\n",
        "    df_lof[\"phi_tangent\"] = 0.0\n",
        "    \n",
        "    dx = np.diff(df_lof[x_col])\n",
        "    dy = np.diff(df_lof[y_col])\n",
        "    phi = np.arctan2(dy, dx)\n",
        "    phi = np.append(phi, phi[-1])  # Länge anpassen\n",
        "\n",
        "    df_lof[\"phi_tangent\"] = phi\n",
        "    df_lof[\"phi_tangent_deg\"] = np.degrees(phi)\n",
        "    df_lof[\"phi_tangent_rad\"] = np.radians(df_lof[\"phi_tangent_deg\"])\n",
        "\n",
        "\n",
        "  \n",
        "    return df_lof"
      ]
    },
    {
      "cell_type": "code",
      "execution_count": null,
      "metadata": {},
      "outputs": [],
      "source": [
        "df_lof = Phi_tangents(df_lof, x_col=\"x_sp_echt\", y_col=\"y_sp_echt\")\n",
        "df_lof"
      ]
    },
    {
      "cell_type": "code",
      "execution_count": null,
      "metadata": {},
      "outputs": [],
      "source": [
        "print(1.659288+1.321587)"
      ]
    },
    {
      "cell_type": "markdown",
      "metadata": {
        "id": "yOEJKn91D2GF"
      },
      "source": [
        "# Beschleunigung aus x, y (2 Fache Ableitung)"
      ]
    },
    {
      "cell_type": "code",
      "execution_count": null,
      "metadata": {},
      "outputs": [],
      "source": [
        "df_lof = generate_testdata_LOF(R=40, V=20, periods=24, A_xLR=0.5, A_yVZ=0.6)\n",
        "df_lof = Nur_Savitzky_golay(df_lof, filter_for=(\"x\", \"y\", \"elevation\"), window_size=11, order=3)\n",
        "df_lof = Phi_tangents(df_lof, x_col=\"x_sp_SG\", y_col=\"y_sp_SG\")\n",
        "df_lof"
      ]
    },
    {
      "cell_type": "code",
      "execution_count": null,
      "metadata": {},
      "outputs": [],
      "source": [
        "def compute_and_plot_derivatives(df: pd.DataFrame, x_col='x', y_col='y', time_col='timestamp'):\n",
        "    df = df.copy()\n",
        "\n",
        "    # Zeitspalte in Sekunden umwandeln (datetime oder string)\n",
        "    if np.issubdtype(df[time_col].dtype, np.datetime64):\n",
        "        df['time_s'] = (df[time_col] - df[time_col].iloc[0]).dt.total_seconds()\n",
        "    else:\n",
        "        try:\n",
        "            # Versuche String-Timestamp zu parsen (z. B. '20240127T144159900000')\n",
        "            df['datetime'] = pd.to_datetime(df[time_col], format=\"%Y%m%dT%H%M%S%f\")\n",
        "            df['time_s'] = (df['datetime'] - df['datetime'].iloc[0]).dt.total_seconds()\n",
        "            df.drop(columns=['datetime'], inplace=True)\n",
        "        except Exception:\n",
        "            # Fallback: Versuche float\n",
        "            df['time_s'] = df[time_col].astype(float)\n",
        "\n",
        "    # Spaltennamen für Ableitungen automatisch benennen\n",
        "    vx_col = f'v_{x_col}'\n",
        "    vy_col = f'v_{y_col}'\n",
        "    ax_col = f'a_{x_col}'\n",
        "    ay_col = f'a_{y_col}'\n",
        "\n",
        "    # Ableitungen berechnen\n",
        "    df[vx_col] = df[x_col].diff() / df['time_s'].diff()\n",
        "    df[vy_col] = df[y_col].diff() / df['time_s'].diff()\n",
        "    df[ax_col] = df[vx_col].diff() / df['time_s'].diff()\n",
        "    df[ay_col] = df[vy_col].diff() / df['time_s'].diff()\n",
        "\n",
        "    # Plot\n",
        "    plt.figure(figsize=(12, 6))\n",
        "    plt.plot(df['time_s'], df[vx_col], label=vx_col)\n",
        "    plt.plot(df['time_s'], df[vy_col], label=vy_col)\n",
        "    plt.plot(df['time_s'], df[ax_col], label=ax_col, linestyle='--')\n",
        "    plt.plot(df['time_s'], df[ay_col], label=ay_col, linestyle='--')\n",
        "\n",
        "    plt.xlabel(\"Zeit [s]\")\n",
        "    plt.ylabel(\"Wert\")\n",
        "    plt.title(\"Geschwindigkeit & Beschleunigung\")\n",
        "    plt.legend()\n",
        "    plt.grid(True)\n",
        "    plt.tight_layout()\n",
        "    plt.show()\n",
        "\n",
        "    return df\n"
      ]
    },
    {
      "cell_type": "code",
      "execution_count": null,
      "metadata": {},
      "outputs": [],
      "source": [
        "df_lof = compute_and_plot_derivatives(df_lof, x_col='x', y_col='y', time_col='t')"
      ]
    },
    {
      "cell_type": "code",
      "execution_count": null,
      "metadata": {},
      "outputs": [],
      "source": [
        "df_lof"
      ]
    },
    {
      "cell_type": "markdown",
      "metadata": {},
      "source": []
    },
    {
      "cell_type": "code",
      "execution_count": null,
      "metadata": {},
      "outputs": [],
      "source": [
        "def project_acceleration_vector(df,\n",
        "                                    a_x_col='a_x',\n",
        "                                    a_y_col='a_y',\n",
        "                                    v_x_col='v_x',\n",
        "                                    v_y_col='v_y'):\n",
        "    \"\"\"\n",
        "    Zerlegt die Beschleunigung (a_x, a_y) in:\n",
        "    - a_along: Tangential zur Bahn (Richtung der Geschwindigkeit)\n",
        "    - a_perp:  Normal zur Bahn (z. B. Kurvenkraft)\n",
        "    \n",
        "    Diese Methode nutzt die Geschwindigkeit als Bahn-Tangente,\n",
        "    nicht den Winkel phi – dadurch ist sie genauer bei Krümmungen.\n",
        "    \n",
        "    :param df: DataFrame mit Spalten a_x, a_y, v_x, v_y\n",
        "    :return: DataFrame mit Spalten a_along, a_perp\n",
        "    \"\"\"\n",
        "    df = df.copy()\n",
        "\n",
        "    # Tangentenvektor = v\n",
        "    v_x = df[v_x_col].values\n",
        "    v_y = df[v_y_col].values\n",
        "    a_x = df[a_x_col].values\n",
        "    a_y = df[a_y_col].values\n",
        "\n",
        "    # Norm (Betrag) der Geschwindigkeit\n",
        "    v_norm = np.sqrt(v_x**2 + v_y**2)\n",
        "    v_norm[v_norm == 0] = np.nan  # vermeide Division durch 0\n",
        "\n",
        "    # Projektion auf Tangente (v)\n",
        "    a_along = (a_x * v_x + a_y * v_y) / v_norm\n",
        "\n",
        "    # Normalenvektor = (-v_y, v_x)\n",
        "    n_x = -v_y\n",
        "    n_y = v_x\n",
        "    n_norm = np.sqrt(n_x**2 + n_y**2)\n",
        "    n_norm[n_norm == 0] = np.nan\n",
        "\n",
        "    # Projektion auf Normale (senkrecht zu v)\n",
        "    a_perp = (a_x * n_x + a_y * n_y) / n_norm\n",
        "\n",
        "    # Rückgabe\n",
        "    df[\"x_along\"] = a_along\n",
        "    df[\"y_perp\"] = a_perp\n",
        "\n",
        "    return df\n"
      ]
    },
    {
      "cell_type": "code",
      "execution_count": null,
      "metadata": {},
      "outputs": [],
      "source": [
        "df_lof = project_acceleration_vector(df_lof, a_x_col=\"a_y\", a_y_col=\"a_x\", v_x_col=\"v_y\", v_y_col=\"v_x\")\n"
      ]
    },
    {
      "cell_type": "code",
      "execution_count": null,
      "metadata": {},
      "outputs": [],
      "source": [
        "signal_projection(df_lof, signal_columns=(\"a_perp\", \"a_along\", ), plot=True, plot_2d=True, plot_3d=True) #diverse Signalwerte betrachten"
      ]
    },
    {
      "cell_type": "code",
      "execution_count": null,
      "metadata": {},
      "outputs": [],
      "source": []
    },
    {
      "cell_type": "code",
      "execution_count": null,
      "metadata": {},
      "outputs": [],
      "source": []
    },
    {
      "cell_type": "markdown",
      "metadata": {
        "id": "vToGe1aiEmOu"
      },
      "source": [
        "# Phi_smooth auf x,y müsste gerade mit Schwingung geben. (Kontrolle mit phi_echt)"
      ]
    },
    {
      "cell_type": "code",
      "execution_count": null,
      "metadata": {},
      "outputs": [],
      "source": [
        "df_lof = generate_testdata_LOF(R=40, V=20, periods=24, A_xLR=0.5, A_yVZ=0.6)\n",
        "df_lof = Nur_Savitzky_golay(df_lof, filter_for=(\"x\", \"y\", \"elevation\"), window_size=11, order=3)\n",
        "df_lof = Phi_tangents(df_lof, x_col=\"x_sp_SG\", y_col=\"y_sp_SG\")\n",
        "df_lof = compute_and_plot_derivatives(df_lof, x_col='x', y_col='y', time_col='t')\n"
      ]
    },
    {
      "cell_type": "code",
      "execution_count": null,
      "metadata": {},
      "outputs": [],
      "source": [
        "df_lof"
      ]
    },
    {
      "cell_type": "code",
      "execution_count": null,
      "metadata": {},
      "outputs": [],
      "source": [
        "df_lof = rotate_acceleration_by_phi_column(df_lof, a_x_col=\"a_x\", a_y_col=\"a_y\", phi_col=\"phi_tangent_deg\") #Rotation der Beschleunigung"
      ]
    },
    {
      "cell_type": "code",
      "execution_count": null,
      "metadata": {},
      "outputs": [],
      "source": [
        "df_lof = rotate_acceleration_by_phi_column(df_lof, a_x_col=\"x\", a_y_col=\"y\", phi_col=\"phi_tangent_deg\") #Rotation der Beschleunigung\n"
      ]
    },
    {
      "cell_type": "code",
      "execution_count": null,
      "metadata": {},
      "outputs": [],
      "source": [
        "df_lof.columns"
      ]
    },
    {
      "cell_type": "code",
      "execution_count": null,
      "metadata": {},
      "outputs": [],
      "source": [
        "signal_projection(df_lof, signal_columns=(\"x\", \"x_sp_SG\", \"y\", \"y_sp_SG\"), plot=True, plot_2d=True, plot_3d=True) #diverse Signalwerte betrachten"
      ]
    },
    {
      "cell_type": "code",
      "execution_count": null,
      "metadata": {},
      "outputs": [],
      "source": [
        "signal_projection(df_lof, signal_columns=(\"a_x_along\", \"a_x_perp\"), plot=True, plot_2d=True, plot_3d=True) #diverse Signalwerte betrachten"
      ]
    },
    {
      "cell_type": "code",
      "execution_count": null,
      "metadata": {},
      "outputs": [],
      "source": [
        "import pandas as pd\n",
        "import numpy as np\n",
        "\n",
        "def rotate_acceleration_by_phi_column(df: pd.DataFrame,\n",
        "                                      a_x_col: str,\n",
        "                                      a_y_col: str,\n",
        "                                      phi_col: str,\n",
        "                                      inplace: bool = False) -> pd.DataFrame:\n",
        "    \"\"\"\n",
        "    Rotiert a_x und a_y je Zeile anhand des gegebenen Winkels in phi_col (in Grad).\n",
        "    Berechnet:\n",
        "        - *_along: Beschleunigung in Bewegungsrichtung (entlang phi)\n",
        "        - *_perp:  senkrecht zur Bewegungsrichtung (Kurvenkraft)\n",
        "    \n",
        "    Neue Spaltennamen basieren automatisch auf a_x_col (z. B. a_x → a_x_along / a_x_perp)\n",
        "    \n",
        "    :param df: Eingabe-DataFrame\n",
        "    :param a_x_col: Spaltenname für a_x\n",
        "    :param a_y_col: Spaltenname für a_y\n",
        "    :param phi_col: Spaltenname für Winkel in Grad (z. B. Bewegungsrichtung)\n",
        "    :param inplace: Falls True, werden neue Spalten direkt ins df geschrieben\n",
        "    :return: DataFrame mit zwei neuen Spalten: <prefix>_along, <prefix>_perp\n",
        "    \"\"\"\n",
        "    df = df if inplace else df.copy()\n",
        "\n",
        "    # Winkel in Radiant umrechnen\n",
        "    theta = np.radians(df[phi_col].values)\n",
        "    \n",
        "    a_x = df[a_x_col].values\n",
        "    a_y = df[a_y_col].values\n",
        "\n",
        "    # Rotation per Zeile\n",
        "    a_along = a_x * np.cos(theta) + a_y * np.sin(theta)\n",
        "    a_perp = -a_x * np.sin(theta) + a_y * np.cos(theta)\n",
        "\n",
        "    # Automatisch passenden Namen generieren\n",
        "    prefix = a_x_col.rstrip(\"_\")  # z. B. \"a_x\" → \"a_x\"\n",
        "    df[f\"{prefix}_along\"] = a_along\n",
        "    df[f\"{prefix}_perp\"] = a_perp\n",
        "\n",
        "    return df\n"
      ]
    },
    {
      "cell_type": "code",
      "execution_count": null,
      "metadata": {},
      "outputs": [],
      "source": [
        "signal_projection(df_lof, signal_columns=(\"a_x\", \"a_y\"), plot=True, plot_2d=True, plot_3d=True) #diverse Signalwerte betrachten"
      ]
    },
    {
      "cell_type": "code",
      "execution_count": null,
      "metadata": {},
      "outputs": [],
      "source": []
    },
    {
      "cell_type": "code",
      "execution_count": null,
      "metadata": {},
      "outputs": [],
      "source": []
    },
    {
      "cell_type": "code",
      "execution_count": null,
      "metadata": {},
      "outputs": [],
      "source": []
    },
    {
      "cell_type": "code",
      "execution_count": null,
      "metadata": {},
      "outputs": [],
      "source": []
    },
    {
      "cell_type": "code",
      "execution_count": null,
      "metadata": {},
      "outputs": [],
      "source": []
    },
    {
      "cell_type": "code",
      "execution_count": null,
      "metadata": {
        "id": "BvVjPL1XD_cL"
      },
      "outputs": [],
      "source": []
    },
    {
      "cell_type": "markdown",
      "metadata": {
        "id": "1P3JgTHeE23W"
      },
      "source": [
        "# Wiederholung mit Nadine 2 (SG 11/3)"
      ]
    },
    {
      "cell_type": "markdown",
      "metadata": {},
      "source": [
        "## Daten laden"
      ]
    },
    {
      "cell_type": "code",
      "execution_count": null,
      "metadata": {},
      "outputs": [],
      "source": [
        "nadine = import_data_and_merge(\"Goms_2024-01-27_nadine_faehndrich_run_2.csv\", \"export_data_transformed.csv\", \"FAEHNDRICH Nadine Run__2\")\n",
        "nadine"
      ]
    },
    {
      "cell_type": "code",
      "execution_count": null,
      "metadata": {},
      "outputs": [],
      "source": [
        "plot_technic_track(nadine) #diverse strecken gemäss GPS betrachten"
      ]
    },
    {
      "cell_type": "code",
      "execution_count": null,
      "metadata": {},
      "outputs": [],
      "source": [
        "# Strecke glätten\n",
        "nadine = Nur_Savitzky_golay(nadine,filter_for=(\"latitude\",\"longitude\"),window_size=91,order=3)  "
      ]
    },
    {
      "cell_type": "code",
      "execution_count": null,
      "metadata": {},
      "outputs": [],
      "source": [
        "nadine"
      ]
    },
    {
      "cell_type": "code",
      "execution_count": null,
      "metadata": {},
      "outputs": [],
      "source": [
        "# Winkel der geglätteten Strecke berechnen\n",
        "nadine = Phi_tangents(nadine, x_col=\"latitude_sp_SG\", y_col=\"longitude_sp_SG\") #Phi Tangent berechnen"
      ]
    },
    {
      "cell_type": "code",
      "execution_count": null,
      "metadata": {},
      "outputs": [],
      "source": [
        "# Beschleunigung\n",
        "nadine = compute_and_plot_derivatives(nadine, x_col='latitude', y_col='longitude', time_col='timestamp') #Ableitungen berechnen  "
      ]
    },
    {
      "cell_type": "code",
      "execution_count": null,
      "metadata": {},
      "outputs": [],
      "source": [
        "nadine = rotate_acceleration_by_phi_column(nadine, a_x_col=\"a_latitude\", a_y_col=\"a_longitude\", phi_col=\"phi_tangent_deg\") #Rotation der Beschleunigung\n"
      ]
    },
    {
      "cell_type": "code",
      "execution_count": null,
      "metadata": {},
      "outputs": [],
      "source": [
        "signal_projection(nadine, signal_columns=(\"a_latitude_along\", \"a_latitude_perp\"), plot=True, plot_2d=True, plot_3d=True) #diverse Signalwerte betrachten"
      ]
    },
    {
      "cell_type": "code",
      "execution_count": null,
      "metadata": {},
      "outputs": [],
      "source": [
        "nadine = Nur_Savitzky_golay(nadine,filter_for=(\"a_latitude\",\"a_longitude\"),window_size=11,order=3) #Strecke glätten"
      ]
    },
    {
      "cell_type": "code",
      "execution_count": null,
      "metadata": {},
      "outputs": [],
      "source": [
        "signal_projection(nadine, signal_columns=(\"a_latitude_sp_SG\", \"a_longitude_sp_SG\"), plot=True, plot_2d=True, plot_3d=True) #diverse Signalwerte betrachten"
      ]
    }
  ],
  "metadata": {
    "colab": {
      "provenance": []
    },
    "kernelspec": {
      "display_name": "base",
      "language": "python",
      "name": "python3"
    },
    "language_info": {
      "codemirror_mode": {
        "name": "ipython",
        "version": 3
      },
      "file_extension": ".py",
      "mimetype": "text/x-python",
      "name": "python",
      "nbconvert_exporter": "python",
      "pygments_lexer": "ipython3",
      "version": "3.12.3"
    }
  },
  "nbformat": 4,
  "nbformat_minor": 0
}
